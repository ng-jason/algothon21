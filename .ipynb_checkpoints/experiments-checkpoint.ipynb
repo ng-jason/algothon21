{
 "cells": [
  {
   "cell_type": "code",
   "execution_count": 2,
   "metadata": {},
   "outputs": [],
   "source": [
    "import matplotlib.pyplot as plt\n",
    "import seaborn as sns"
   ]
  },
  {
   "cell_type": "code",
   "execution_count": 3,
   "metadata": {},
   "outputs": [
    {
     "name": "stdout",
     "output_type": "stream",
     "text": [
      "Loaded 100 instruments for 250 days\n"
     ]
    }
   ],
   "source": [
    "# from teamName.py\n",
    "#!/usr/bin/envblah python\n",
    "\n",
    "import numpy as np\n",
    "import pandas as pd\n",
    "# from teamName import getMyPosition as getPosition\n",
    "\n",
    "# Algorithm testing file. \n",
    "# Quantitative judging will be determined from output of this program.\n",
    "# Judging will use unseeen, future price data from the same universe.\n",
    "\n",
    "nInst = 0\n",
    "nt = 0\n",
    "\n",
    "# Commission rate.\n",
    "commRate = 0.0050\n",
    "\n",
    "# Dollar position limit (maximum absolute dollar value of any individual stock position).\n",
    "dlrPosLimit = 10000\n",
    "\n",
    "def loadPrices(fn):\n",
    "    global nt, nInst\n",
    "    df=pd.read_csv(fn, sep='\\s+', header=None, index_col=None)\n",
    "    nt, nInst = df.values.shape\n",
    "    return (df.values).T\n",
    "\n",
    "pricesFile=\"./prices250.txt\"\n",
    "prcAll = loadPrices(pricesFile)\n",
    "print (\"Loaded %d instruments for %d days\" % (nInst, nt))\n",
    "\n",
    "def calcPL(prcHist):\n",
    "    cash = 0\n",
    "    curPos = np.zeros(nInst)\n",
    "    totDVolume = 0\n",
    "    totDVolume0 = 0\n",
    "    totDVolume1 = 0\n",
    "    frac0 = 0.\n",
    "    frac1 = 0.\n",
    "    value = 0\n",
    "    valueData = []  # for plotting results\n",
    "    todayPLL = []\n",
    "    (_,nt) = prcHist.shape\n",
    "    for t in range(1, 251):  # changed this to (0, 251) from (201, 251)\n",
    "        prcHistSoFar = prcHist[:,:t]\n",
    "        newPosOrig = getPosition(prcHistSoFar)\n",
    "        curPrices = prcHistSoFar[:,-1] \n",
    "        posLimits = np.array([int(x) for x in dlrPosLimit / curPrices])\n",
    "        newPos = np.array([int(p) for p in np.clip(newPosOrig, -posLimits, posLimits)])\n",
    "        deltaPos = newPos - curPos\n",
    "        dvolumes = curPrices * np.abs(deltaPos)\n",
    "        dvolume0 = np.sum(dvolumes[:50])\n",
    "        dvolume1 = np.sum(dvolumes[50:])\n",
    "        dvolume = np.sum(dvolumes)\n",
    "        totDVolume += dvolume\n",
    "        totDVolume0 += dvolume0\n",
    "        totDVolume1 += dvolume1\n",
    "        comm = dvolume * commRate\n",
    "        cash -= curPrices.dot(deltaPos) + comm\n",
    "        curPos = np.array(newPos)\n",
    "        posValue = curPos.dot(curPrices)\n",
    "        todayPL = cash + posValue - value\n",
    "        todayPLL.append(todayPL)\n",
    "        value = cash + posValue\n",
    "        valueData.append(value)  # for plotting results\n",
    "        ret = 0.0\n",
    "        if (totDVolume > 0):\n",
    "            ret = value / totDVolume\n",
    "            frac0 = totDVolume0 / totDVolume\n",
    "            frac1 = totDVolume1 / totDVolume\n",
    "        # old print\n",
    "        # print (\"Day %d value: %.2lf todayPL: $%.2lf $-traded: %.0lf return: %.5lf frac0: %.4lf frac1: %.4lf\" % (t,value, todayPL, totDVolume, ret, frac0, frac1))\n",
    "#         print (\"Day %3d value: %9.2lf todayPL: $%8.2lf $-traded: %7.0lf return: %8.5lf frac0: %6.4lf frac1: %6.4lf\" % (t,value, todayPL, totDVolume, ret, frac0, frac1))\n",
    "    pll = np.array(todayPLL)\n",
    "    (plmu,plstd) = (np.mean(pll), np.std(pll))\n",
    "    annSharpe = 0.0\n",
    "    if (plstd > 0):\n",
    "        annSharpe = 16 * plmu / plstd\n",
    "    \n",
    "    plt.figure(figsize=(10, 8))\n",
    "    sns.lineplot(x=range(1, 251), y=valueData)\n",
    "    \n",
    "    return (plmu, ret, annSharpe, totDVolume)"
   ]
  },
  {
   "cell_type": "code",
   "execution_count": 4,
   "metadata": {},
   "outputs": [
    {
     "data": {
      "text/plain": [
       "array([[18.25, 18.22, 18.28, ..., 19.37, 19.22, 19.18],\n",
       "       [ 7.34,  7.35,  7.34, ...,  7.41,  7.39,  7.39],\n",
       "       [17.95, 18.01, 18.04, ..., 19.08, 19.11, 19.18],\n",
       "       ...,\n",
       "       [ 3.33,  3.31,  3.36, ...,  3.36,  3.37,  3.34],\n",
       "       [ 2.64,  2.63,  2.67, ...,  2.51,  2.59,  2.5 ],\n",
       "       [19.19, 19.75, 20.07, ..., 18.85, 19.16, 18.86]])"
      ]
     },
     "execution_count": 4,
     "metadata": {},
     "output_type": "execute_result"
    }
   ],
   "source": [
    "# prices\n",
    "prcAll"
   ]
  },
  {
   "cell_type": "code",
   "execution_count": 5,
   "metadata": {},
   "outputs": [
    {
     "data": {
      "text/plain": [
       "array([18.25, 18.22, 18.28, 18.07, 18.2 , 18.15, 18.24, 18.39, 18.34,\n",
       "       18.41, 18.36, 18.43, 18.62, 18.74, 18.35, 18.42, 18.32, 18.16,\n",
       "       17.89, 18.12, 18.15, 18.12, 18.08, 18.46, 18.31, 18.36, 18.36,\n",
       "       18.19, 18.1 , 18.21, 18.26, 18.42, 18.61, 18.69, 18.65, 18.58,\n",
       "       18.43, 18.22, 18.14, 18.51, 18.63, 18.56, 18.52, 18.28, 18.33,\n",
       "       18.38, 18.45, 18.33, 18.57, 18.4 , 18.45, 18.43, 18.3 , 18.36,\n",
       "       18.34, 18.4 , 18.39, 18.37, 18.23, 18.17, 18.29, 18.26, 18.02,\n",
       "       18.04, 18.02, 18.15, 18.09, 18.13, 18.16, 18.15, 18.12, 18.07,\n",
       "       18.08, 18.15, 18.07, 18.32, 18.35, 18.37, 18.37, 18.71, 18.59,\n",
       "       18.56, 18.4 , 18.65, 18.67, 18.64, 18.73, 18.8 , 19.02, 18.94,\n",
       "       18.8 , 18.59, 18.59, 18.59, 18.62, 18.64, 18.86, 19.08, 19.21,\n",
       "       19.62, 19.71, 19.61, 19.53, 19.66, 19.71, 19.78, 19.83, 19.81,\n",
       "       19.87, 19.85, 20.04, 19.97, 20.12, 19.85, 19.76, 19.92, 19.98,\n",
       "       19.97, 19.9 , 19.87, 19.88, 19.9 , 19.93, 19.9 , 19.72, 19.92,\n",
       "       19.92, 19.86, 20.07, 20.24, 20.29, 19.91, 19.89, 19.71, 19.46,\n",
       "       19.65, 19.79, 19.78, 20.1 , 20.18, 20.24, 19.98, 20.21, 20.22,\n",
       "       20.39, 20.2 , 20.4 , 20.55, 20.55, 20.56, 20.58, 20.39, 20.39,\n",
       "       20.29, 20.55, 20.82, 20.89, 20.81, 20.85, 20.7 , 20.85, 20.84,\n",
       "       20.82, 20.72, 20.72, 20.7 , 20.53, 20.63, 20.87, 20.81, 20.7 ,\n",
       "       20.73, 20.57, 20.32, 20.06, 20.08, 20.06, 20.1 , 20.07, 19.85,\n",
       "       19.8 , 19.76, 19.75, 19.89, 19.79, 19.7 , 19.87, 19.76, 19.72,\n",
       "       19.62, 19.63, 19.47, 19.59, 19.53, 19.69, 19.99, 19.8 , 19.71,\n",
       "       19.77, 19.42, 19.72, 19.94, 19.82, 19.69, 19.56, 19.56, 19.77,\n",
       "       19.67, 19.78, 19.81, 20.02, 19.88, 19.56, 19.31, 19.  , 19.24,\n",
       "       19.45, 19.28, 19.11, 19.16, 19.27, 19.09, 19.02, 19.08, 19.04,\n",
       "       19.4 , 19.45, 19.43, 19.29, 19.41, 19.51, 19.57, 19.53, 19.35,\n",
       "       19.32, 19.43, 19.65, 19.48, 19.62, 19.49, 19.53, 19.53, 19.35,\n",
       "       19.48, 19.45, 19.53, 19.42, 19.37, 19.22, 19.18])"
      ]
     },
     "execution_count": 5,
     "metadata": {},
     "output_type": "execute_result"
    }
   ],
   "source": [
    "prcAll[0]  # prices for instrument 0"
   ]
  },
  {
   "cell_type": "code",
   "execution_count": 6,
   "metadata": {},
   "outputs": [
    {
     "data": {
      "text/plain": [
       "18.25"
      ]
     },
     "execution_count": 6,
     "metadata": {},
     "output_type": "execute_result"
    }
   ],
   "source": [
    "prcAll[0][0]"
   ]
  },
  {
   "cell_type": "code",
   "execution_count": 7,
   "metadata": {},
   "outputs": [],
   "source": [
    "prices = prcAll"
   ]
  },
  {
   "cell_type": "markdown",
   "metadata": {},
   "source": [
    "# Define strategy here"
   ]
  },
  {
   "cell_type": "code",
   "execution_count": 8,
   "metadata": {},
   "outputs": [],
   "source": [
    "# TEMPLATE\n",
    "nInst=100\n",
    "currentPos = np.zeros(nInst)\n",
    "\n",
    "# Dummy algorithm to demonstrate function format.\n",
    "def getMyPosition (prcSoFar):\n",
    "    global currentPos\n",
    "    # (nins,nt) = prcSoFar.shape\n",
    "    # rpos = np.array([int(x) for x in 1000 * np.random.randn(nins)])\n",
    "    # currentPos += rpos\n",
    "    # The algorithm must return a vector of integers, indicating the position of each stock.\n",
    "    # Position = number of shares, and can be positve or negative depending on long/short position.\n",
    "    return currentPos"
   ]
  },
  {
   "cell_type": "code",
   "execution_count": 9,
   "metadata": {},
   "outputs": [],
   "source": [
    "# Baseline? Buy and Hold strategy, buys max position for all 100 instruments and sells at the end of the trading period (250 days)\n",
    "# sells at the end of the trading period\n",
    "\n",
    "posLimit = 10000\n",
    "\n",
    "currentPos = np.zeros(nInst) \n",
    "day = 1\n",
    "\n",
    "def getMyPosition(prcSoFar):\n",
    "    global day\n",
    "    global currentPos\n",
    "    \n",
    "#     print(prcSoFar)\n",
    "#     print([price[0] for price in prcSoFar])\n",
    "#     print(prcSoFar[:, -1])\n",
    "    \n",
    "    newPos = None\n",
    "    if day == 1:  # buy\n",
    "        print(\"Buying\")\n",
    "        newPos = posLimit // prcSoFar[:, -1]  # [posLimit // price[0] for price in prcSoFar]\n",
    "    if day == 250:  # selling at end of day does affect results\n",
    "        print(\"Selling\")\n",
    "        newPos = np.zeros(nInst)\n",
    "    if newPos is not None:\n",
    "        print(f\"Transaction cost ${round(transactionCost(prcSoFar, currentPos, newPos), 2)}\")\n",
    "        currentPos = newPos\n",
    "    day += 1\n",
    "    return currentPos"
   ]
  },
  {
   "cell_type": "code",
   "execution_count": 10,
   "metadata": {},
   "outputs": [],
   "source": [
    "def transactionCost(prcSoFar, currentPos, newPos):\n",
    "    \"\"\"\n",
    "    Returns transaction cost for new position.\n",
    "\n",
    "        transaction cost = 0.0050 * totalDollarVolumeTraded\n",
    "\n",
    "    from eval.py\n",
    "    \"\"\"\n",
    "    # Commission rate\n",
    "    commRate = 0.0050\n",
    "    currentPrices = prcSoFar[:,-1] \n",
    "    deltaPos = newPos - currentPos\n",
    "    dvolumes = currentPrices * np.abs(deltaPos)\n",
    "    dvolume0 = np.sum(dvolumes[:50])\n",
    "    dvolume1 = np.sum(dvolumes[50:])\n",
    "    dvolume = np.sum(dvolumes)\n",
    "    return dvolume * commRate"
   ]
  },
  {
   "cell_type": "code",
   "execution_count": 11,
   "metadata": {},
   "outputs": [
    {
     "name": "stdout",
     "output_type": "stream",
     "text": [
      "Buying\n",
      "Transaction cost $4995.24\n",
      "Selling\n",
      "Transaction cost $4902.01\n",
      "=====\n",
      "mean(PL): 40\n",
      "return: 0.00242\n",
      "annSharpe(PL): 0.14 \n",
      "totDvolume: 4080282 \n"
     ]
    },
    {
     "data": {
      "image/png": "[encoded data removed]",
      "text/plain": [
       "<Figure size 720x576 with 1 Axes>"
      ]
     },
     "metadata": {
      "needs_background": "light"
     },
     "output_type": "display_data"
    }
   ],
   "source": [
    "# Run calcPL here from eval.py\n",
    "getPosition = getMyPosition\n",
    "\n",
    "# Output\n",
    "(meanpl, ret, sharpe, dvol) = calcPL(prcAll)\n",
    "print (\"=====\")\n",
    "print (\"mean(PL): %.0lf\" % meanpl)\n",
    "print (\"return: %.5lf\" % ret)\n",
    "print (\"annSharpe(PL): %.2lf \" % sharpe)\n",
    "print (\"totDvolume: %.0lf \" % dvol)"
   ]
  },
  {
   "cell_type": "code",
   "execution_count": 12,
   "metadata": {},
   "outputs": [
    {
     "name": "stdout",
     "output_type": "stream",
     "text": [
      "\n",
      "===> buy 1067.0 @ 9.37\n",
      "\n",
      "\n",
      "===> sell 1067.0 @ 9.6\n",
      "\n",
      "\n",
      "===> buy 1082.0 @ 9.24\n",
      "\n",
      "\n",
      "===> sell 1082.0 @ 9.58\n",
      "\n",
      "\n",
      "===> buy 1067.0 @ 9.37\n",
      "\n",
      "\n",
      "===> sell 1067.0 @ 9.52\n",
      "\n",
      "\n",
      "===> buy 1061.0 @ 9.42\n",
      "\n",
      "\n",
      "===> sell 1061.0 @ 9.63\n",
      "\n",
      "\n",
      "===> buy 1070.0 @ 9.34\n",
      "\n",
      "\n",
      "===> sell 1070.0 @ 9.54\n",
      "\n",
      "\n",
      "===> buy 1142.0 @ 8.75\n",
      "\n",
      "\n",
      "===> sell 1142.0 @ 10.04\n",
      "\n",
      "\n",
      "===> buy 1084.0 @ 9.22\n",
      "\n",
      "\n",
      "===> sell 1084.0 @ 9.6\n",
      "\n",
      "\n",
      "===> buy 1081.0 @ 9.25\n",
      "\n",
      "\n",
      "===> sell 1081.0 @ 9.89\n",
      "\n",
      "\n",
      "===> buy 1074.0 @ 9.31\n",
      "\n",
      "\n",
      "===> sell 1074.0 @ 9.53\n",
      "\n",
      "\n",
      "===> buy 1064.0 @ 9.39\n",
      "\n",
      "\n",
      "===> sell 1064.0 @ 9.75\n",
      "\n",
      "\n",
      "===> buy 1063.0 @ 9.4\n",
      "\n",
      "\n",
      "===> sell 1063.0 @ 9.66\n",
      "\n",
      "\n",
      "===> buy 1084.0 @ 9.22\n",
      "\n",
      "\n",
      "===> sell 1084.0 @ 9.5\n",
      "\n",
      "\n",
      "===> buy 1074.0 @ 9.31\n",
      "\n",
      "\n",
      "===> sell 1074.0 @ 9.54\n",
      "\n",
      "\n",
      "===> buy 1127.0 @ 8.87\n",
      "\n",
      "\n",
      "===> sell 1127.0 @ 9.67\n",
      "\n",
      "\n",
      "===> buy 1067.0 @ 9.37\n",
      "\n",
      "\n",
      "===> sell 1067.0 @ 9.55\n",
      "\n",
      "\n",
      "===> buy 1085.0 @ 9.21\n",
      "\n",
      "\n",
      "===> sell 1085.0 @ 9.61\n",
      "\n",
      "\n",
      "===> buy 1098.0 @ 9.1\n",
      "\n",
      "\n",
      "===> sell 1098.0 @ 9.58\n",
      "\n",
      "\n",
      "===> buy 1071.0 @ 9.33\n",
      "\n",
      "\n",
      "===> sell 1071.0 @ 9.77\n",
      "\n",
      "\n",
      "===> buy 1068.0 @ 9.36\n",
      "\n",
      "\n",
      "===> sell 1068.0 @ 9.74\n",
      "\n",
      "\n",
      "===> buy 1060.0 @ 9.43\n",
      "\n",
      "\n",
      "===> sell 1060.0 @ 9.74\n",
      "\n",
      "\n",
      "===> buy 1114.0 @ 8.97\n",
      "\n",
      "\n",
      "===> sell 1114.0 @ 9.62\n",
      "\n",
      "\n",
      "===> buy 1060.0 @ 9.43\n",
      "\n",
      "\n",
      "===> sell 1060.0 @ 9.82\n",
      "\n",
      "\n",
      "===> buy 1084.0 @ 9.22\n",
      "\n",
      "\n",
      "===> sell 1084.0 @ 9.55\n",
      "\n",
      "\n",
      "===> buy 1106.0 @ 9.04\n",
      "\n",
      "\n",
      "===> sell 1106.0 @ 9.63\n",
      "\n",
      "\n",
      "===> buy 1092.0 @ 9.15\n",
      "\n",
      "\n",
      "===> sell 1092.0 @ 9.79\n",
      "\n",
      "\n",
      "===> buy 1109.0 @ 9.01\n",
      "\n",
      "\n",
      "===> sell 1109.0 @ 9.49\n",
      "\n",
      "\n",
      "===> buy 1082.0 @ 9.24\n",
      "\n",
      "\n",
      "===> sell 1082.0 @ 9.54\n",
      "\n",
      "\n",
      "===> buy 1060.0 @ 9.43\n",
      "\n",
      "\n",
      "===> sell 1060.0 @ 9.64\n",
      "\n",
      "\n",
      "===> buy 1081.0 @ 9.25\n",
      "\n",
      "\n",
      "===> sell 1081.0 @ 9.59\n",
      "\n",
      "\n",
      "===> buy 1119.0 @ 8.93\n",
      "\n",
      "\n",
      "===> sell 1119.0 @ 9.95\n",
      "\n",
      "\n",
      "===> buy 1109.0 @ 9.01\n",
      "\n",
      "=====\n",
      "mean(PL): 43\n",
      "return: 0.01688\n",
      "annSharpe(PL): 2.47 \n",
      "totDvolume: 632342 \n"
     ]
    },
    {
     "data": {
      "image/png": "[encoded data removed]",
      "text/plain": [
       "<Figure size 720x576 with 1 Axes>"
      ]
     },
     "metadata": {
      "needs_background": "light"
     },
     "output_type": "display_data"
    }
   ],
   "source": [
    "# backtesting m98strat (this is for stock 98 only)\n",
    "from m98_demo import getMyPosition as getPosition\n",
    "\n",
    "# Output\n",
    "(meanpl, ret, sharpe, dvol) = calcPL(prcAll)\n",
    "print (\"=====\")\n",
    "print (\"mean(PL): %.0lf\" % meanpl)\n",
    "print (\"return: %.5lf\" % ret)\n",
    "print (\"annSharpe(PL): %.2lf \" % sharpe)\n",
    "print (\"totDvolume: %.0lf \" % dvol)"
   ]
  },
  {
   "cell_type": "markdown",
   "metadata": {},
   "source": [
    "| strategy                                               | parameters               | mean(PL) | return  | annSharp(PL) | totDvolume |\n",
    "|--------------------------------------------------------|--------------------------|----------|---------|--------------|------------|\n",
    "| Buy and hold (do not sell at end of 250 days)          | all 100 stocks, 250 days |       58 | 0.00467 |         0.22 |    3132449 |\n",
    "| Buy and hold (sell at end of 250 days)                 | all 100 stocks, 250 days |       40 | 0.00242 |         0.14 |    4080282 |\n",
    "| Buy and hold only stocks that increase during 250 days |                 250 days |       88 | 0.04254 |         1.31 |     516498 |\n",
    "| Same as above (selling at end)                         |                 250 days |       82 | 0.02517 |         1.23 |     813868 |\n",
    "\n",
    "<!-- Using this to generate tables https://www.tablesgenerator.com/markdown_tables# -->"
   ]
  }
 ],
 "metadata": {
  "interpreter": {
   "hash": "6ee88fbdff738d53879ad3fe7a11099c596b8b9fff612cee51d12d681014339e"
  },
  "kernelspec": {
   "display_name": "Python 3",
   "language": "python",
   "name": "python3"
  },
  "language_info": {
   "codemirror_mode": {
    "name": "ipython",
    "version": 3
   },
   "file_extension": ".py",
   "mimetype": "text/x-python",
   "name": "python",
   "nbconvert_exporter": "python",
   "pygments_lexer": "ipython3",
   "version": "3.7.9"
  }
 },
 "nbformat": 4,
 "nbformat_minor": 2
}
