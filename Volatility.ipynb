{
 "cells": [
  {
   "cell_type": "markdown",
   "id": "1a808f11",
   "metadata": {},
   "source": [
    "# Volatility measure"
   ]
  },
  {
   "cell_type": "markdown",
   "id": "a603dac3",
   "metadata": {},
   "source": [
    "### SD , SD as pct of mean price"
   ]
  },
  {
   "cell_type": "code",
   "execution_count": 1,
   "id": "2bbf0e88",
   "metadata": {},
   "outputs": [],
   "source": [
    "DAYS = 150 # no of days, use 250 for modelling next round"
   ]
  },
  {
   "cell_type": "code",
   "execution_count": 3,
   "id": "67da26aa",
   "metadata": {},
   "outputs": [],
   "source": [
    "import math\n",
    "import numpy as np\n",
    "data = np.loadtxt(\"prices250.txt\")"
   ]
  },
  {
   "cell_type": "code",
   "execution_count": 9,
   "id": "473a481c",
   "metadata": {},
   "outputs": [],
   "source": [
    "sd = [] # sd from mean for each stock\n",
    "sd_pct = [] # sd as percentage of mean price\n",
    "for i in range(0, 100):\n",
    "    prices = []\n",
    "    for j in range(0, DAYS):\n",
    "        prices.append(data[j][i])\n",
    "    \n",
    "    # mean\n",
    "    mean = 0\n",
    "    for k in prices:\n",
    "        mean += k\n",
    "    mean = mean / len(prices)\n",
    "    \n",
    "    # variance\n",
    "    var = 0\n",
    "    for k in prices:\n",
    "        var += (k - mean)*(k - mean)\n",
    "    var = var / len(prices)\n",
    "    \n",
    "    sd_i = math.sqrt(var)\n",
    "    sd.append(sd_i)\n",
    "    sd_pct_i = sd_i / mean * 100\n",
    "    sd_pct.append(sd_pct_i)"
   ]
  },
  {
   "cell_type": "code",
   "execution_count": 16,
   "id": "0d54331a",
   "metadata": {},
   "outputs": [
    {
     "name": "stdout",
     "output_type": "stream",
     "text": [
      "0.7835982644187008\n",
      "0.08606997153479254\n",
      "0.18162140108845454\n",
      "0.025279680026104395\n",
      "0.017818342609045735\n",
      "0.550630281283791\n",
      "0.5865729811559872\n",
      "0.9229974936766264\n",
      "0.5547806613628689\n",
      "0.21153556044630728\n",
      "0.26419774580584293\n",
      "0.014343252381830601\n",
      "0.12055886528994873\n",
      "0.8897298066766612\n",
      "0.7862833642452883\n",
      "0.4506839049957543\n",
      "0.7600912109009609\n",
      "0.13933507175948998\n",
      "0.5475619863439105\n",
      "0.4320052263058349\n",
      "0.007485986908885172\n",
      "0.6464472101846798\n",
      "0.3666910597946634\n",
      "0.1473116273603531\n",
      "0.3075992775601978\n",
      "0.09655462472380877\n",
      "0.39705303871845077\n",
      "0.6045432288559316\n",
      "0.5123315940113615\n",
      "0.7179560525083227\n",
      "0.30259697435514604\n",
      "0.11086578472289012\n",
      "0.31312564038523993\n",
      "0.5406949478834314\n",
      "0.2597272073199536\n",
      "0.6881806642638737\n",
      "0.15725133456420076\n",
      "0.7803529372448516\n",
      "0.618841914834116\n",
      "0.7927447144082528\n",
      "0.9367883408516332\n",
      "0.5726356569019742\n",
      "0.7703249415380212\n",
      "0.5163935148917175\n",
      "0.4877799868337727\n",
      "0.3001829146074477\n",
      "0.372301484761417\n",
      "0.6004293315805135\n",
      "0.801775587888116\n",
      "0.03182933657283273\n",
      "0.5914458517527664\n",
      "0.7353164216852496\n",
      "0.8044211970244333\n",
      "0.8680543377769235\n",
      "0.3554842456268476\n",
      "0.6093937825595386\n",
      "0.2774195058430863\n",
      "0.8564363503624906\n",
      "0.5810704451460444\n",
      "0.426905604970883\n",
      "0.5265715905743493\n",
      "0.5439248314080011\n",
      "0.32488289172151463\n",
      "0.45942060612616553\n",
      "0.8840744086331196\n",
      "0.741084922409181\n",
      "0.12318818485913692\n",
      "0.8906233148132205\n",
      "0.5029235462108863\n",
      "0.8865135206088072\n",
      "0.28268235805503605\n",
      "0.7073491327170448\n",
      "0.6796680366178769\n",
      "0.6571674875301324\n",
      "0.9460399357321022\n",
      "0.9068064009968659\n",
      "0.39864167145724017\n",
      "0.8334207954102312\n",
      "0.09859747573960617\n",
      "0.08392335127298534\n",
      "0.7577294034738846\n"
     ]
    }
   ],
   "source": [
    "# < 1 pct volatility\n",
    "for i in sd:\n",
    "    if i<1:\n",
    "        print(i)"
   ]
  }
 ],
 "metadata": {
  "kernelspec": {
   "display_name": "Python 3 (ipykernel)",
   "language": "python",
   "name": "python3"
  },
  "language_info": {
   "codemirror_mode": {
    "name": "ipython",
    "version": 3
   },
   "file_extension": ".py",
   "mimetype": "text/x-python",
   "name": "python",
   "nbconvert_exporter": "python",
   "pygments_lexer": "ipython3",
   "version": "3.9.5"
  }
 },
 "nbformat": 4,
 "nbformat_minor": 5
}
