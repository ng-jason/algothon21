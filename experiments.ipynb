{
 "metadata": {
  "language_info": {
   "codemirror_mode": {
    "name": "ipython",
    "version": 3
   },
   "file_extension": ".py",
   "mimetype": "text/x-python",
   "name": "python",
   "nbconvert_exporter": "python",
   "pygments_lexer": "ipython3",
   "version": "3.7.9"
  },
  "orig_nbformat": 4,
  "kernelspec": {
   "name": "python3",
   "display_name": "Python 3.7.9 64-bit (conda)"
  },
  "interpreter": {
   "hash": "6ee88fbdff738d53879ad3fe7a11099c596b8b9fff612cee51d12d681014339e"
  }
 },
 "nbformat": 4,
 "nbformat_minor": 2,
 "cells": [
  {
   "cell_type": "code",
   "execution_count": 3,
   "metadata": {},
   "outputs": [],
   "source": [
    "import numpy as np"
   ]
  },
  {
   "cell_type": "code",
   "execution_count": 9,
   "metadata": {},
   "outputs": [
    {
     "output_type": "stream",
     "name": "stdout",
     "text": [
      "Loaded 100 instruments for 250 days\n"
     ]
    }
   ],
   "source": [
    "# from teamName.py\n",
    "#!/usr/bin/envblah python\n",
    "\n",
    "import numpy as np\n",
    "import pandas as pd\n",
    "# from teamName import getMyPosition as getPosition\n",
    "\n",
    "# Algorithm testing file. \n",
    "# Quantitative judging will be determined from output of this program.\n",
    "# Judging will use unseeen, future price data from the same universe.\n",
    "\n",
    "nInst = 0\n",
    "nt = 0\n",
    "\n",
    "# Commission rate.\n",
    "commRate = 0.0050\n",
    "\n",
    "# Dollar position limit (maximum absolute dollar value of any individual stock position).\n",
    "dlrPosLimit = 10000\n",
    "\n",
    "def loadPrices(fn):\n",
    "    global nt, nInst\n",
    "    df=pd.read_csv(fn, sep='\\s+', header=None, index_col=None)\n",
    "    nt, nInst = df.values.shape\n",
    "    return (df.values).T\n",
    "\n",
    "pricesFile=\"./prices250.txt\"\n",
    "prcAll = loadPrices(pricesFile)\n",
    "print (\"Loaded %d instruments for %d days\" % (nInst, nt))\n",
    "\n",
    "def calcPL(prcHist):\n",
    "    cash = 0\n",
    "    curPos = np.zeros(nInst)\n",
    "    totDVolume = 0\n",
    "    totDVolume0 = 0\n",
    "    totDVolume1 = 0\n",
    "    frac0 = 0.\n",
    "    frac1 = 0.\n",
    "    value = 0\n",
    "    todayPLL = []\n",
    "    (_,nt) = prcHist.shape\n",
    "    for t in range(201,251):\n",
    "        prcHistSoFar = prcHist[:,:t]\n",
    "        newPosOrig = getPosition(prcHistSoFar)\n",
    "        curPrices = prcHistSoFar[:,-1] \n",
    "        posLimits = np.array([int(x) for x in dlrPosLimit / curPrices])\n",
    "        newPos = np.array([int(p) for p in np.clip(newPosOrig, -posLimits, posLimits)])\n",
    "        deltaPos = newPos - curPos\n",
    "        dvolumes = curPrices * np.abs(deltaPos)\n",
    "        dvolume0 = np.sum(dvolumes[:50])\n",
    "        dvolume1 = np.sum(dvolumes[50:])\n",
    "        dvolume = np.sum(dvolumes)\n",
    "        totDVolume += dvolume\n",
    "        totDVolume0 += dvolume0\n",
    "        totDVolume1 += dvolume1\n",
    "        comm = dvolume * commRate\n",
    "        cash -= curPrices.dot(deltaPos) + comm\n",
    "        curPos = np.array(newPos)\n",
    "        posValue = curPos.dot(curPrices)\n",
    "        todayPL = cash + posValue - value\n",
    "        todayPLL.append(todayPL)\n",
    "        value = cash + posValue\n",
    "        ret = 0.0\n",
    "        if (totDVolume > 0):\n",
    "            ret = value / totDVolume\n",
    "            frac0 = totDVolume0 / totDVolume\n",
    "            frac1 = totDVolume1 / totDVolume\n",
    "        # old print\n",
    "        # print (\"Day %d value: %.2lf todayPL: $%.2lf $-traded: %.0lf return: %.5lf frac0: %.4lf frac1: %.4lf\" % (t,value, todayPL, totDVolume, ret, frac0, frac1))\n",
    "        print (\"Day %d value: %9.2lf todayPL: $%8.2lf $-traded: %7.0lf return: %8.5lf frac0: %6.4lf frac1: %6.4lf\" % (t,value, todayPL, totDVolume, ret, frac0, frac1))\n",
    "    pll = np.array(todayPLL)\n",
    "    (plmu,plstd) = (np.mean(pll), np.std(pll))\n",
    "    annSharpe = 0.0\n",
    "    if (plstd > 0):\n",
    "        annSharpe = 16 * plmu / plstd\n",
    "    return (plmu, ret, annSharpe, totDVolume)"
   ]
  },
  {
   "cell_type": "code",
   "execution_count": 8,
   "metadata": {},
   "outputs": [],
   "source": [
    "# define program here\n",
    " \n",
    "nInst=100\n",
    "currentPos = np.zeros(nInst)\n",
    "\n",
    "# Dummy algorithm to demonstrate function format.\n",
    "def getMyPosition (prcSoFar):\n",
    "    global currentPos\n",
    "    # (nins,nt) = prcSoFar.shape\n",
    "    # rpos = np.array([int(x) for x in 1000 * np.random.randn(nins)])\n",
    "    # currentPos += rpos\n",
    "    # The algorithm must return a vector of integers, indicating the position of each stock.\n",
    "    # Position = number of shares, and can be positve or negative depending on long/short position.\n",
    "    return currentPos\n",
    "\n",
    "getPosition = getMyPosition"
   ]
  },
  {
   "cell_type": "code",
   "execution_count": 11,
   "metadata": {},
   "outputs": [
    {
     "output_type": "stream",
     "name": "stdout",
     "text": [
      "Day 201 value:      0.00 todayPL: $    0.00 $-traded:       0 return:  0.00000 frac0: 0.0000 frac1: 0.0000\nDay 202 value:      0.00 todayPL: $    0.00 $-traded:       0 return:  0.00000 frac0: 0.0000 frac1: 0.0000\nDay 203 value:      0.00 todayPL: $    0.00 $-traded:       0 return:  0.00000 frac0: 0.0000 frac1: 0.0000\nDay 204 value:      0.00 todayPL: $    0.00 $-traded:       0 return:  0.00000 frac0: 0.0000 frac1: 0.0000\nDay 205 value:      0.00 todayPL: $    0.00 $-traded:       0 return:  0.00000 frac0: 0.0000 frac1: 0.0000\nDay 206 value:      0.00 todayPL: $    0.00 $-traded:       0 return:  0.00000 frac0: 0.0000 frac1: 0.0000\nDay 207 value:      0.00 todayPL: $    0.00 $-traded:       0 return:  0.00000 frac0: 0.0000 frac1: 0.0000\nDay 208 value:      0.00 todayPL: $    0.00 $-traded:       0 return:  0.00000 frac0: 0.0000 frac1: 0.0000\nDay 209 value:      0.00 todayPL: $    0.00 $-traded:       0 return:  0.00000 frac0: 0.0000 frac1: 0.0000\nDay 210 value:      0.00 todayPL: $    0.00 $-traded:       0 return:  0.00000 frac0: 0.0000 frac1: 0.0000\nDay 211 value:      0.00 todayPL: $    0.00 $-traded:       0 return:  0.00000 frac0: 0.0000 frac1: 0.0000\nDay 212 value:      0.00 todayPL: $    0.00 $-traded:       0 return:  0.00000 frac0: 0.0000 frac1: 0.0000\nDay 213 value:      0.00 todayPL: $    0.00 $-traded:       0 return:  0.00000 frac0: 0.0000 frac1: 0.0000\nDay 214 value:      0.00 todayPL: $    0.00 $-traded:       0 return:  0.00000 frac0: 0.0000 frac1: 0.0000\nDay 215 value:      0.00 todayPL: $    0.00 $-traded:       0 return:  0.00000 frac0: 0.0000 frac1: 0.0000\nDay 216 value:      0.00 todayPL: $    0.00 $-traded:       0 return:  0.00000 frac0: 0.0000 frac1: 0.0000\nDay 217 value:      0.00 todayPL: $    0.00 $-traded:       0 return:  0.00000 frac0: 0.0000 frac1: 0.0000\nDay 218 value:      0.00 todayPL: $    0.00 $-traded:       0 return:  0.00000 frac0: 0.0000 frac1: 0.0000\nDay 219 value:      0.00 todayPL: $    0.00 $-traded:       0 return:  0.00000 frac0: 0.0000 frac1: 0.0000\nDay 220 value:      0.00 todayPL: $    0.00 $-traded:       0 return:  0.00000 frac0: 0.0000 frac1: 0.0000\nDay 221 value:      0.00 todayPL: $    0.00 $-traded:       0 return:  0.00000 frac0: 0.0000 frac1: 0.0000\nDay 222 value:      0.00 todayPL: $    0.00 $-traded:       0 return:  0.00000 frac0: 0.0000 frac1: 0.0000\nDay 223 value:      0.00 todayPL: $    0.00 $-traded:       0 return:  0.00000 frac0: 0.0000 frac1: 0.0000\nDay 224 value:      0.00 todayPL: $    0.00 $-traded:       0 return:  0.00000 frac0: 0.0000 frac1: 0.0000\nDay 225 value:      0.00 todayPL: $    0.00 $-traded:       0 return:  0.00000 frac0: 0.0000 frac1: 0.0000\nDay 226 value:      0.00 todayPL: $    0.00 $-traded:       0 return:  0.00000 frac0: 0.0000 frac1: 0.0000\nDay 227 value:      0.00 todayPL: $    0.00 $-traded:       0 return:  0.00000 frac0: 0.0000 frac1: 0.0000\nDay 228 value:      0.00 todayPL: $    0.00 $-traded:       0 return:  0.00000 frac0: 0.0000 frac1: 0.0000\nDay 229 value:      0.00 todayPL: $    0.00 $-traded:       0 return:  0.00000 frac0: 0.0000 frac1: 0.0000\nDay 230 value:      0.00 todayPL: $    0.00 $-traded:       0 return:  0.00000 frac0: 0.0000 frac1: 0.0000\nDay 231 value:      0.00 todayPL: $    0.00 $-traded:       0 return:  0.00000 frac0: 0.0000 frac1: 0.0000\nDay 232 value:      0.00 todayPL: $    0.00 $-traded:       0 return:  0.00000 frac0: 0.0000 frac1: 0.0000\nDay 233 value:      0.00 todayPL: $    0.00 $-traded:       0 return:  0.00000 frac0: 0.0000 frac1: 0.0000\nDay 234 value:      0.00 todayPL: $    0.00 $-traded:       0 return:  0.00000 frac0: 0.0000 frac1: 0.0000\nDay 235 value:      0.00 todayPL: $    0.00 $-traded:       0 return:  0.00000 frac0: 0.0000 frac1: 0.0000\nDay 236 value:      0.00 todayPL: $    0.00 $-traded:       0 return:  0.00000 frac0: 0.0000 frac1: 0.0000\nDay 237 value:      0.00 todayPL: $    0.00 $-traded:       0 return:  0.00000 frac0: 0.0000 frac1: 0.0000\nDay 238 value:      0.00 todayPL: $    0.00 $-traded:       0 return:  0.00000 frac0: 0.0000 frac1: 0.0000\nDay 239 value:      0.00 todayPL: $    0.00 $-traded:       0 return:  0.00000 frac0: 0.0000 frac1: 0.0000\nDay 240 value:      0.00 todayPL: $    0.00 $-traded:       0 return:  0.00000 frac0: 0.0000 frac1: 0.0000\nDay 241 value:      0.00 todayPL: $    0.00 $-traded:       0 return:  0.00000 frac0: 0.0000 frac1: 0.0000\nDay 242 value:      0.00 todayPL: $    0.00 $-traded:       0 return:  0.00000 frac0: 0.0000 frac1: 0.0000\nDay 243 value:      0.00 todayPL: $    0.00 $-traded:       0 return:  0.00000 frac0: 0.0000 frac1: 0.0000\nDay 244 value:      0.00 todayPL: $    0.00 $-traded:       0 return:  0.00000 frac0: 0.0000 frac1: 0.0000\nDay 245 value:      0.00 todayPL: $    0.00 $-traded:       0 return:  0.00000 frac0: 0.0000 frac1: 0.0000\nDay 246 value:      0.00 todayPL: $    0.00 $-traded:       0 return:  0.00000 frac0: 0.0000 frac1: 0.0000\nDay 247 value:      0.00 todayPL: $    0.00 $-traded:       0 return:  0.00000 frac0: 0.0000 frac1: 0.0000\nDay 248 value:      0.00 todayPL: $    0.00 $-traded:       0 return:  0.00000 frac0: 0.0000 frac1: 0.0000\nDay 249 value:      0.00 todayPL: $    0.00 $-traded:       0 return:  0.00000 frac0: 0.0000 frac1: 0.0000\nDay 250 value:      0.00 todayPL: $    0.00 $-traded:       0 return:  0.00000 frac0: 0.0000 frac1: 0.0000\n=====\nmean(PL): 0\nreturn: 0.00000\nannSharpe(PL): 0.00 \ntotDvolume: 0 \n"
     ]
    }
   ],
   "source": [
    "# Run calcPL here from eval.py\n",
    "# Output\n",
    "(meanpl, ret, sharpe, dvol) = calcPL(prcAll)\n",
    "print (\"=====\")\n",
    "print (\"mean(PL): %.0lf\" % meanpl)\n",
    "print (\"return: %.5lf\" % ret)\n",
    "print (\"annSharpe(PL): %.2lf \" % sharpe)\n",
    "print (\"totDvolume: %.0lf \" % dvol)"
   ]
  },
  {
   "cell_type": "code",
   "execution_count": null,
   "metadata": {},
   "outputs": [],
   "source": []
  }
 ]
}