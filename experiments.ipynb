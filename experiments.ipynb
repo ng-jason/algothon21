{
 "metadata": {
  "language_info": {
   "codemirror_mode": {
    "name": "ipython",
    "version": 3
   },
   "file_extension": ".py",
   "mimetype": "text/x-python",
   "name": "python",
   "nbconvert_exporter": "python",
   "pygments_lexer": "ipython3",
   "version": "3.7.9"
  },
  "orig_nbformat": 4,
  "kernelspec": {
   "name": "python3",
   "display_name": "Python 3.7.9 64-bit (conda)"
  },
  "interpreter": {
   "hash": "6ee88fbdff738d53879ad3fe7a11099c596b8b9fff612cee51d12d681014339e"
  }
 },
 "nbformat": 4,
 "nbformat_minor": 2,
 "cells": [
  {
   "cell_type": "code",
   "execution_count": 1,
   "metadata": {},
   "outputs": [],
   "source": [
    "import numpy as np"
   ]
  },
  {
   "cell_type": "code",
   "execution_count": 5,
   "metadata": {},
   "outputs": [],
   "source": [
    "# helper functions here\n",
    " \n",
    "nInst=100\n",
    "currentPos = np.zeros(nInst)\n",
    "\n",
    "# Dummy algorithm to demonstrate function format.\n",
    "def getMyPosition (prcSoFar):\n",
    "    global currentPos\n",
    "    # (nins,nt) = prcSoFar.shape\n",
    "    # rpos = np.array([int(x) for x in 1000 * np.random.randn(nins)])\n",
    "    # currentPos += rpos\n",
    "    # The algorithm must return a vector of integers, indicating the position of each stock.\n",
    "    # Position = number of shares, and can be positve or negative depending on long/short position.\n",
    "    return currentPos"
   ]
  },
  {
   "cell_type": "code",
   "execution_count": 26,
   "metadata": {},
   "outputs": [
    {
     "output_type": "stream",
     "name": "stdout",
     "text": [
      "Loaded 100 instruments for 250 days\nDay 201 value:  -3528.93 todayPL: $-3528.93 $-traded:  705785 return: -0.00500 frac0: 0.4884 frac1: 0.5116\nDay 202 value:  -7044.70 todayPL: $-3515.78 $-traded: 1148223 return: -0.00614 frac0: 0.4832 frac1: 0.5168\nDay 203 value: -13597.38 todayPL: $-6552.67 $-traded: 1581176 return: -0.00860 frac0: 0.4597 frac1: 0.5403\nDay 204 value: -15639.21 todayPL: $-2041.83 $-traded: 1921847 return: -0.00814 frac0: 0.4475 frac1: 0.5525\nDay 205 value: -16858.50 todayPL: $-1219.30 $-traded: 2236433 return: -0.00754 frac0: 0.4487 frac1: 0.5513\nDay 206 value: -20146.99 todayPL: $-3288.48 $-traded: 2454383 return: -0.00821 frac0: 0.4552 frac1: 0.5448\nDay 207 value: -20473.11 todayPL: $ -326.13 $-traded: 2655734 return: -0.00771 frac0: 0.4527 frac1: 0.5473\nDay 208 value: -18520.56 todayPL: $ 1952.55 $-traded: 2833912 return: -0.00654 frac0: 0.4538 frac1: 0.5462\nDay 209 value: -19572.63 todayPL: $-1052.07 $-traded: 3035388 return: -0.00645 frac0: 0.4706 frac1: 0.5294\nDay 210 value: -24609.34 todayPL: $-5036.71 $-traded: 3278858 return: -0.00751 frac0: 0.4756 frac1: 0.5244\nDay 211 value: -25577.79 todayPL: $ -968.45 $-traded: 3424783 return: -0.00747 frac0: 0.4818 frac1: 0.5182\nDay 212 value: -26858.05 todayPL: $-1280.26 $-traded: 3579780 return: -0.00750 frac0: 0.4807 frac1: 0.5193\nDay 213 value: -25583.66 todayPL: $ 1274.39 $-traded: 3744144 return: -0.00683 frac0: 0.4888 frac1: 0.5112\nDay 214 value: -26460.97 todayPL: $ -877.30 $-traded: 3911571 return: -0.00676 frac0: 0.4840 frac1: 0.5160\nDay 215 value: -29277.15 todayPL: $-2816.19 $-traded: 4048500 return: -0.00723 frac0: 0.4863 frac1: 0.5137\nDay 216 value: -26021.36 todayPL: $ 3255.79 $-traded: 4139472 return: -0.00629 frac0: 0.4872 frac1: 0.5128\nDay 217 value: -28184.61 todayPL: $-2163.25 $-traded: 4293173 return: -0.00656 frac0: 0.4865 frac1: 0.5135\nDay 218 value: -25441.37 todayPL: $ 2743.24 $-traded: 4490583 return: -0.00567 frac0: 0.4855 frac1: 0.5145\nDay 219 value: -26196.35 todayPL: $ -754.98 $-traded: 4592502 return: -0.00570 frac0: 0.4857 frac1: 0.5143\nDay 220 value: -25476.66 todayPL: $  719.69 $-traded: 4691752 return: -0.00543 frac0: 0.4816 frac1: 0.5184\nDay 221 value: -27629.17 todayPL: $-2152.51 $-traded: 4759439 return: -0.00581 frac0: 0.4811 frac1: 0.5189\nDay 222 value: -30870.40 todayPL: $-3241.23 $-traded: 4860123 return: -0.00635 frac0: 0.4761 frac1: 0.5239\nDay 223 value: -31262.57 todayPL: $ -392.17 $-traded: 4972142 return: -0.00629 frac0: 0.4732 frac1: 0.5268\nDay 224 value: -29899.04 todayPL: $ 1363.53 $-traded: 5074512 return: -0.00589 frac0: 0.4721 frac1: 0.5279\nDay 225 value: -29181.93 todayPL: $  717.11 $-traded: 5197092 return: -0.00562 frac0: 0.4673 frac1: 0.5327\nDay 226 value: -32913.30 todayPL: $-3731.37 $-traded: 5299713 return: -0.00621 frac0: 0.4648 frac1: 0.5352\nDay 227 value: -32986.60 todayPL: $  -73.30 $-traded: 5432912 return: -0.00607 frac0: 0.4659 frac1: 0.5341\nDay 228 value: -37654.17 todayPL: $-4667.57 $-traded: 5562366 return: -0.00677 frac0: 0.4685 frac1: 0.5315\nDay 229 value: -32743.56 todayPL: $ 4910.61 $-traded: 5802235 return: -0.00564 frac0: 0.4753 frac1: 0.5247\nDay 230 value: -34627.77 todayPL: $-1884.22 $-traded: 5984802 return: -0.00579 frac0: 0.4748 frac1: 0.5252\nDay 231 value: -39323.41 todayPL: $-4695.64 $-traded: 6076678 return: -0.00647 frac0: 0.4709 frac1: 0.5291\nDay 232 value: -36125.39 todayPL: $ 3198.02 $-traded: 6174330 return: -0.00585 frac0: 0.4750 frac1: 0.5250\nDay 233 value: -37165.89 todayPL: $-1040.50 $-traded: 6236287 return: -0.00596 frac0: 0.4743 frac1: 0.5257\nDay 234 value: -38730.36 todayPL: $-1564.47 $-traded: 6351863 return: -0.00610 frac0: 0.4726 frac1: 0.5274\nDay 235 value: -44005.13 todayPL: $-5274.77 $-traded: 6474308 return: -0.00680 frac0: 0.4740 frac1: 0.5260\nDay 236 value: -35823.36 todayPL: $ 8181.77 $-traded: 6562286 return: -0.00546 frac0: 0.4719 frac1: 0.5281\nDay 237 value: -42019.20 todayPL: $-6195.84 $-traded: 6663078 return: -0.00631 frac0: 0.4703 frac1: 0.5297\nDay 238 value: -41529.10 todayPL: $  490.11 $-traded: 6776171 return: -0.00613 frac0: 0.4692 frac1: 0.5308\nDay 239 value: -45104.18 todayPL: $-3575.08 $-traded: 6880183 return: -0.00656 frac0: 0.4682 frac1: 0.5318\nDay 240 value: -45292.25 todayPL: $ -188.07 $-traded: 6980720 return: -0.00649 frac0: 0.4667 frac1: 0.5333\nDay 241 value: -44503.68 todayPL: $  788.57 $-traded: 7085514 return: -0.00628 frac0: 0.4698 frac1: 0.5302\nDay 242 value: -42341.23 todayPL: $ 2162.45 $-traded: 7210595 return: -0.00587 frac0: 0.4688 frac1: 0.5312\nDay 243 value: -47510.61 todayPL: $-5169.37 $-traded: 7361563 return: -0.00645 frac0: 0.4684 frac1: 0.5316\nDay 244 value: -47580.20 todayPL: $  -69.59 $-traded: 7432697 return: -0.00640 frac0: 0.4687 frac1: 0.5313\nDay 245 value: -48163.18 todayPL: $ -582.98 $-traded: 7571147 return: -0.00636 frac0: 0.4717 frac1: 0.5283\nDay 246 value: -48354.83 todayPL: $ -191.65 $-traded: 7675429 return: -0.00630 frac0: 0.4741 frac1: 0.5259\nDay 247 value: -48727.78 todayPL: $ -372.95 $-traded: 7805287 return: -0.00624 frac0: 0.4733 frac1: 0.5267\nDay 248 value: -51064.65 todayPL: $-2336.87 $-traded: 7909585 return: -0.00646 frac0: 0.4732 frac1: 0.5268\nDay 249 value: -54808.56 todayPL: $-3743.92 $-traded: 8015447 return: -0.00684 frac0: 0.4734 frac1: 0.5266\nDay 250 value: -51443.18 todayPL: $ 3365.39 $-traded: 8073861 return: -0.00637 frac0: 0.4716 frac1: 0.5284\n=====\nmean(PL): -1029\nreturn: -0.00637\nannSharpe(PL): -5.65 \ntotDvolume: 8073861 \n"
     ]
    }
   ],
   "source": [
    "# run eval.py code here\n",
    "!python eval.py"
   ]
  }
 ]
}