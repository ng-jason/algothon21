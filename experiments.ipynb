{
 "metadata": {
  "language_info": {
   "codemirror_mode": {
    "name": "ipython",
    "version": 3
   },
   "file_extension": ".py",
   "mimetype": "text/x-python",
   "name": "python",
   "nbconvert_exporter": "python",
   "pygments_lexer": "ipython3",
   "version": "3.7.9"
  },
  "orig_nbformat": 4,
  "kernelspec": {
   "name": "python3",
   "display_name": "Python 3.7.9 64-bit (conda)"
  },
  "interpreter": {
   "hash": "6ee88fbdff738d53879ad3fe7a11099c596b8b9fff612cee51d12d681014339e"
  }
 },
 "nbformat": 4,
 "nbformat_minor": 2,
 "cells": [
  {
   "cell_type": "code",
   "execution_count": 9,
   "metadata": {},
   "outputs": [
    {
     "output_type": "stream",
     "name": "stdout",
     "text": [
      "Loaded 100 instruments for 250 days\n"
     ]
    }
   ],
   "source": [
    "# from teamName.py\n",
    "#!/usr/bin/envblah python\n",
    "\n",
    "import numpy as np\n",
    "import pandas as pd\n",
    "# from teamName import getMyPosition as getPosition\n",
    "\n",
    "# Algorithm testing file. \n",
    "# Quantitative judging will be determined from output of this program.\n",
    "# Judging will use unseeen, future price data from the same universe.\n",
    "\n",
    "nInst = 0\n",
    "nt = 0\n",
    "\n",
    "# Commission rate.\n",
    "commRate = 0.0050\n",
    "\n",
    "# Dollar position limit (maximum absolute dollar value of any individual stock position).\n",
    "dlrPosLimit = 10000\n",
    "\n",
    "def loadPrices(fn):\n",
    "    global nt, nInst\n",
    "    df=pd.read_csv(fn, sep='\\s+', header=None, index_col=None)\n",
    "    nt, nInst = df.values.shape\n",
    "    return (df.values).T\n",
    "\n",
    "pricesFile=\"./prices250.txt\"\n",
    "prcAll = loadPrices(pricesFile)\n",
    "print (\"Loaded %d instruments for %d days\" % (nInst, nt))\n",
    "\n",
    "def calcPL(prcHist):\n",
    "    cash = 0\n",
    "    curPos = np.zeros(nInst)\n",
    "    totDVolume = 0\n",
    "    totDVolume0 = 0\n",
    "    totDVolume1 = 0\n",
    "    frac0 = 0.\n",
    "    frac1 = 0.\n",
    "    value = 0\n",
    "    todayPLL = []\n",
    "    (_,nt) = prcHist.shape\n",
    "    for t in range(201,251):\n",
    "        prcHistSoFar = prcHist[:,:t]\n",
    "        newPosOrig = getPosition(prcHistSoFar)\n",
    "        curPrices = prcHistSoFar[:,-1] \n",
    "        posLimits = np.array([int(x) for x in dlrPosLimit / curPrices])\n",
    "        newPos = np.array([int(p) for p in np.clip(newPosOrig, -posLimits, posLimits)])\n",
    "        deltaPos = newPos - curPos\n",
    "        dvolumes = curPrices * np.abs(deltaPos)\n",
    "        dvolume0 = np.sum(dvolumes[:50])\n",
    "        dvolume1 = np.sum(dvolumes[50:])\n",
    "        dvolume = np.sum(dvolumes)\n",
    "        totDVolume += dvolume\n",
    "        totDVolume0 += dvolume0\n",
    "        totDVolume1 += dvolume1\n",
    "        comm = dvolume * commRate\n",
    "        cash -= curPrices.dot(deltaPos) + comm\n",
    "        curPos = np.array(newPos)\n",
    "        posValue = curPos.dot(curPrices)\n",
    "        todayPL = cash + posValue - value\n",
    "        todayPLL.append(todayPL)\n",
    "        value = cash + posValue\n",
    "        ret = 0.0\n",
    "        if (totDVolume > 0):\n",
    "            ret = value / totDVolume\n",
    "            frac0 = totDVolume0 / totDVolume\n",
    "            frac1 = totDVolume1 / totDVolume\n",
    "        # old print\n",
    "        # print (\"Day %d value: %.2lf todayPL: $%.2lf $-traded: %.0lf return: %.5lf frac0: %.4lf frac1: %.4lf\" % (t,value, todayPL, totDVolume, ret, frac0, frac1))\n",
    "        print (\"Day %d value: %9.2lf todayPL: $%8.2lf $-traded: %7.0lf return: %8.5lf frac0: %6.4lf frac1: %6.4lf\" % (t,value, todayPL, totDVolume, ret, frac0, frac1))\n",
    "    pll = np.array(todayPLL)\n",
    "    (plmu,plstd) = (np.mean(pll), np.std(pll))\n",
    "    annSharpe = 0.0\n",
    "    if (plstd > 0):\n",
    "        annSharpe = 16 * plmu / plstd\n",
    "    return (plmu, ret, annSharpe, totDVolume)"
   ]
  },
  {
   "source": [
    "# Define strategy here"
   ],
   "cell_type": "markdown",
   "metadata": {}
  },
  {
   "cell_type": "code",
   "execution_count": 52,
   "metadata": {},
   "outputs": [],
   "source": [
    "# buy and hold\n",
    "\n",
    "# nInst = 100   # number of instruments\n",
    "# nt = 250      # number of days\n",
    "\n",
    "currentPos = np.zeros(nInst)\n",
    "currentPos[0] = 1000000 # the position limit will make it so we buy max position\n",
    "day = 201\n",
    "\n",
    "def getMyPosition(prcSoFar):\n",
    "    global day\n",
    "    global currentPos\n",
    "    if day == 250:  # selling at end of day does affect results\n",
    "        currentPos[0] = 0\n",
    "    day += 1\n",
    "    print(day, currentPos[0])\n",
    "    return currentPos"
   ]
  },
  {
   "source": [],
   "cell_type": "markdown",
   "metadata": {}
  },
  {
   "cell_type": "code",
   "execution_count": 58,
   "metadata": {},
   "outputs": [],
   "source": [
    "def transactionCost(currentPrices, currentPos, newPos):\n",
    "    \"\"\"\n",
    "    Returns transaction cost for new position.\n",
    "\n",
    "        transaction cost = 0.0050 * totalDollarVolumeTraded\n",
    "\n",
    "    from eval.py\n",
    "    \"\"\"\n",
    "    # Commission rate\n",
    "    commRate = 0.0050\n",
    "    deltaPos = newPos - currentPos\n",
    "    dvolumes = currentPrices * np.abs(deltaPos)\n",
    "    dvolume0 = np.sum(dvolumes[:50])\n",
    "    dvolume1 = np.sum(dvolumes[50:])\n",
    "    dvolume = np.sum(dvolumes)\n",
    "    return dvolume * commRate"
   ]
  },
  {
   "cell_type": "code",
   "execution_count": 65,
   "metadata": {},
   "outputs": [
    {
     "output_type": "stream",
     "name": "stdout",
     "text": [
      "45.625\nCheck: 45.625\n"
     ]
    }
   ],
   "source": [
    "# test transaction cost\n",
    "prices = np.loadtxt(\"prices250.txt\")\n",
    "buyOne = np.zeros(nInst)\n",
    "buyOne[0] = 500\n",
    "print(transactionCost(prices[0], np.zeros(nInst), buyOne))\n",
    "print(\"Check:\", prices[0][0] * 500 * 0.0050)"
   ]
  },
  {
   "cell_type": "code",
   "execution_count": null,
   "metadata": {},
   "outputs": [],
   "source": []
  },
  {
   "cell_type": "code",
   "execution_count": 8,
   "metadata": {},
   "outputs": [],
   "source": [
    "nInst=100\n",
    "currentPos = np.zeros(nInst)\n",
    "\n",
    "# Dummy algorithm to demonstrate function format.\n",
    "def getMyPosition (prcSoFar):\n",
    "    global currentPos\n",
    "    # (nins,nt) = prcSoFar.shape\n",
    "    # rpos = np.array([int(x) for x in 1000 * np.random.randn(nins)])\n",
    "    # currentPos += rpos\n",
    "    # The algorithm must return a vector of integers, indicating the position of each stock.\n",
    "    # Position = number of shares, and can be positve or negative depending on long/short position.\n",
    "    return currentPos\n"
   ]
  },
  {
   "cell_type": "code",
   "execution_count": 53,
   "metadata": {},
   "outputs": [
    {
     "output_type": "stream",
     "name": "stdout",
     "text": [
      "202 1000000.0\nDay 201 value:    -49.99 todayPL: $  -49.99 $-traded:    9998 return: -0.00500 frac0: 1.0000 frac1: 0.0000\n203 1000000.0\nDay 202 value:     60.95 todayPL: $  110.94 $-traded:   10118 return:  0.00602 frac0: 1.0000 frac1: 0.0000\n204 1000000.0\nDay 203 value:      0.53 todayPL: $  -60.42 $-traded:   10177 return:  0.00005 frac0: 1.0000 frac1: 0.0000\n205 1000000.0\nDay 204 value:    -65.28 todayPL: $  -65.82 $-traded:   10236 return: -0.00638 frac0: 1.0000 frac1: 0.0000\n206 1000000.0\nDay 205 value:   -131.58 todayPL: $  -66.30 $-traded:   10314 return: -0.01276 frac0: 1.0000 frac1: 0.0000\n207 1000000.0\nDay 206 value:   -131.58 todayPL: $    0.00 $-traded:   10314 return: -0.01276 frac0: 1.0000 frac1: 0.0000\n208 1000000.0\nDay 207 value:    -24.87 todayPL: $  106.72 $-traded:   10433 return: -0.00238 frac0: 1.0000 frac1: 0.0000\n209 1000000.0\nDay 208 value:    -75.66 todayPL: $  -50.80 $-traded:   10492 return: -0.00721 frac0: 1.0000 frac1: 0.0000\n210 1000000.0\nDay 209 value:    -20.08 todayPL: $   55.58 $-traded:   10551 return: -0.00190 frac0: 1.0000 frac1: 0.0000\n211 1000000.0\nDay 210 value:     -5.03 todayPL: $   15.05 $-traded:   10571 return: -0.00048 frac0: 1.0000 frac1: 0.0000\n212 1000000.0\nDay 211 value:    100.31 todayPL: $  105.34 $-traded:   10671 return:  0.00940 frac0: 1.0000 frac1: 0.0000\n213 1000000.0\nDay 212 value:     30.06 todayPL: $  -70.26 $-traded:   10751 return:  0.00280 frac0: 1.0000 frac1: 0.0000\n214 1000000.0\nDay 213 value:   -131.69 todayPL: $ -161.74 $-traded:   10907 return: -0.01207 frac0: 1.0000 frac1: 0.0000\n215 1000000.0\nDay 214 value:   -260.02 todayPL: $ -128.33 $-traded:   11023 return: -0.02359 frac0: 1.0000 frac1: 0.0000\n216 1000000.0\nDay 215 value:   -421.14 todayPL: $ -161.12 $-traded:   11194 return: -0.03762 frac0: 1.0000 frac1: 0.0000\n217 1000000.0\nDay 216 value:   -295.57 todayPL: $  125.57 $-traded:   11329 return: -0.02609 frac0: 1.0000 frac1: 0.0000\n218 1000000.0\nDay 217 value:   -187.07 todayPL: $  108.50 $-traded:   11426 return: -0.01637 frac0: 1.0000 frac1: 0.0000\n219 1000000.0\nDay 218 value:   -274.84 todayPL: $  -87.77 $-traded:   11503 return: -0.02389 frac0: 1.0000 frac1: 0.0000\n220 1000000.0\nDay 219 value:   -363.37 todayPL: $  -88.54 $-traded:   11599 return: -0.03133 frac0: 1.0000 frac1: 0.0000\n221 1000000.0\nDay 220 value:   -337.42 todayPL: $   25.96 $-traded:   11637 return: -0.02899 frac0: 1.0000 frac1: 0.0000\n222 1000000.0\nDay 221 value:   -280.39 todayPL: $   57.02 $-traded:   11695 return: -0.02398 frac0: 1.0000 frac1: 0.0000\n223 1000000.0\nDay 222 value:   -374.11 todayPL: $  -93.72 $-traded:   11790 return: -0.03173 frac0: 1.0000 frac1: 0.0000\n224 1000000.0\nDay 223 value:   -410.91 todayPL: $  -36.80 $-traded:   11828 return: -0.03474 frac0: 1.0000 frac1: 0.0000\n225 1000000.0\nDay 224 value:   -379.51 todayPL: $   31.40 $-traded:   11847 return: -0.03203 frac0: 1.0000 frac1: 0.0000\n226 1000000.0\nDay 225 value:   -400.56 todayPL: $  -21.06 $-traded:   11867 return: -0.03376 frac0: 1.0000 frac1: 0.0000\n227 1000000.0\nDay 226 value:   -212.53 todayPL: $  188.03 $-traded:   12061 return: -0.01762 frac0: 1.0000 frac1: 0.0000\n228 1000000.0\nDay 227 value:   -186.88 todayPL: $   25.65 $-traded:   12080 return: -0.01547 frac0: 1.0000 frac1: 0.0000\n229 1000000.0\nDay 228 value:   -197.16 todayPL: $  -10.28 $-traded:   12080 return: -0.01632 frac0: 1.0000 frac1: 0.0000\n230 1000000.0\nDay 229 value:   -269.51 todayPL: $  -72.35 $-traded:   12157 return: -0.02217 frac0: 1.0000 frac1: 0.0000\n231 1000000.0\nDay 230 value:   -207.64 todayPL: $   61.87 $-traded:   12215 return: -0.01700 frac0: 1.0000 frac1: 0.0000\n232 1000000.0\nDay 231 value:   -156.43 todayPL: $   51.21 $-traded:   12274 return: -0.01274 frac0: 1.0000 frac1: 0.0000\n233 1000000.0\nDay 232 value:   -125.91 todayPL: $   30.52 $-traded:   12313 return: -0.01023 frac0: 1.0000 frac1: 0.0000\n234 1000000.0\nDay 233 value:   -146.50 todayPL: $  -20.60 $-traded:   12352 return: -0.01186 frac0: 1.0000 frac1: 0.0000\n235 1000000.0\nDay 234 value:   -239.05 todayPL: $  -92.55 $-traded:   12430 return: -0.01923 frac0: 1.0000 frac1: 0.0000\n236 1000000.0\nDay 235 value:   -254.62 todayPL: $  -15.58 $-traded:   12449 return: -0.02045 frac0: 1.0000 frac1: 0.0000\n237 1000000.0\nDay 236 value:   -198.05 todayPL: $   56.58 $-traded:   12507 return: -0.01583 frac0: 1.0000 frac1: 0.0000\n238 1000000.0\nDay 237 value:    -85.56 todayPL: $  112.49 $-traded:   12625 return: -0.00678 frac0: 1.0000 frac1: 0.0000\n239 1000000.0\nDay 238 value:   -172.40 todayPL: $  -86.85 $-traded:   12722 return: -0.01355 frac0: 1.0000 frac1: 0.0000\n240 1000000.0\nDay 239 value:   -100.97 todayPL: $   71.43 $-traded:   12801 return: -0.00789 frac0: 1.0000 frac1: 0.0000\n241 1000000.0\nDay 240 value:   -167.53 todayPL: $  -66.56 $-traded:   12879 return: -0.01301 frac0: 1.0000 frac1: 0.0000\n242 1000000.0\nDay 241 value:   -147.11 todayPL: $   20.42 $-traded:   12898 return: -0.01141 frac0: 1.0000 frac1: 0.0000\n243 1000000.0\nDay 242 value:   -147.11 todayPL: $    0.00 $-traded:   12898 return: -0.01141 frac0: 1.0000 frac1: 0.0000\n244 1000000.0\nDay 243 value:   -239.66 todayPL: $  -92.55 $-traded:   12976 return: -0.01847 frac0: 1.0000 frac1: 0.0000\n245 1000000.0\nDay 244 value:   -172.87 todayPL: $   66.79 $-traded:   13034 return: -0.01326 frac0: 1.0000 frac1: 0.0000\n246 1000000.0\nDay 245 value:   -188.36 todayPL: $  -15.49 $-traded:   13054 return: -0.01443 frac0: 1.0000 frac1: 0.0000\n247 1000000.0\nDay 246 value:   -147.43 todayPL: $   40.92 $-traded:   13093 return: -0.01126 frac0: 1.0000 frac1: 0.0000\n248 1000000.0\nDay 247 value:   -203.95 todayPL: $  -56.51 $-traded:   13132 return: -0.01553 frac0: 1.0000 frac1: 0.0000\n249 1000000.0\nDay 248 value:   -229.84 todayPL: $  -25.89 $-traded:   13170 return: -0.01745 frac0: 1.0000 frac1: 0.0000\n250 1000000.0\nDay 249 value:   -307.63 todayPL: $  -77.78 $-traded:   13247 return: -0.02322 frac0: 1.0000 frac1: 0.0000\n251 0.0\nDay 250 value:   -378.29 todayPL: $  -70.67 $-traded:   23221 return: -0.01629 frac0: 1.0000 frac1: 0.0000\n=====\nmean(PL): -8\nreturn: -0.01629\nannSharpe(PL): -1.55 \ntotDvolume: 23221 \n"
     ]
    }
   ],
   "source": [
    "# Run calcPL here from eval.py\n",
    "\n",
    "getPosition = getMyPosition\n",
    "\n",
    "\n",
    "# Output\n",
    "(meanpl, ret, sharpe, dvol) = calcPL(prcAll)\n",
    "print (\"=====\")\n",
    "print (\"mean(PL): %.0lf\" % meanpl)\n",
    "print (\"return: %.5lf\" % ret)\n",
    "print (\"annSharpe(PL): %.2lf \" % sharpe)\n",
    "print (\"totDvolume: %.0lf \" % dvol)"
   ]
  },
  {
   "cell_type": "code",
   "execution_count": null,
   "metadata": {},
   "outputs": [],
   "source": []
  }
 ]
}