{
 "metadata": {
  "language_info": {
   "codemirror_mode": {
    "name": "ipython",
    "version": 3
   },
   "file_extension": ".py",
   "mimetype": "text/x-python",
   "name": "python",
   "nbconvert_exporter": "python",
   "pygments_lexer": "ipython3",
   "version": "3.7.9"
  },
  "orig_nbformat": 4,
  "kernelspec": {
   "name": "python3",
   "display_name": "Python 3.7.9 64-bit (conda)"
  },
  "interpreter": {
   "hash": "6ee88fbdff738d53879ad3fe7a11099c596b8b9fff612cee51d12d681014339e"
  }
 },
 "nbformat": 4,
 "nbformat_minor": 2,
 "cells": [
  {
   "cell_type": "code",
   "execution_count": 1,
   "metadata": {},
   "outputs": [],
   "source": [
    "import numpy as np"
   ]
  },
  {
   "cell_type": "code",
   "execution_count": 5,
   "metadata": {},
   "outputs": [],
   "source": [
    "# helper functions here\n",
    " \n",
    "nInst=100\n",
    "currentPos = np.zeros(nInst)\n",
    "\n",
    "# Dummy algorithm to demonstrate function format.\n",
    "def getMyPosition (prcSoFar):\n",
    "    global currentPos\n",
    "    # (nins,nt) = prcSoFar.shape\n",
    "    # rpos = np.array([int(x) for x in 1000 * np.random.randn(nins)])\n",
    "    # currentPos += rpos\n",
    "    # The algorithm must return a vector of integers, indicating the position of each stock.\n",
    "    # Position = number of shares, and can be positve or negative depending on long/short position.\n",
    "    return currentPos"
   ]
  },
  {
   "cell_type": "code",
   "execution_count": 6,
   "metadata": {},
   "outputs": [
    {
     "output_type": "stream",
     "name": "stdout",
     "text": [
      "Loaded 100 instruments for 250 days\nDay 201 value: -3737.33 todayPL: $-3737.33 $-traded: 747467 return: -0.00500 frac0: 0.4997 frac1: 0.5003\nDay 202 value: -11230.63 todayPL: $-7493.30 $-traded: 1148510 return: -0.00978 frac0: 0.5013 frac1: 0.4987\nDay 203 value: -9774.77 todayPL: $1455.87 $-traded: 1625337 return: -0.00601 frac0: 0.5036 frac1: 0.4964\nDay 204 value: -11760.43 todayPL: $-1985.66 $-traded: 1946425 return: -0.00604 frac0: 0.4968 frac1: 0.5032\nDay 205 value: -15961.83 todayPL: $-4201.41 $-traded: 2227999 return: -0.00716 frac0: 0.4862 frac1: 0.5138\nDay 206 value: -16411.52 todayPL: $-449.69 $-traded: 2442794 return: -0.00672 frac0: 0.4818 frac1: 0.5182\nDay 207 value: -12689.28 todayPL: $3722.25 $-traded: 2694997 return: -0.00471 frac0: 0.4822 frac1: 0.5178\nDay 208 value: -12556.13 todayPL: $133.15 $-traded: 2826779 return: -0.00444 frac0: 0.4783 frac1: 0.5217\nDay 209 value: -11149.19 todayPL: $1406.94 $-traded: 3063623 return: -0.00364 frac0: 0.4769 frac1: 0.5231\nDay 210 value: -13991.26 todayPL: $-2842.07 $-traded: 3209605 return: -0.00436 frac0: 0.4740 frac1: 0.5260\nDay 211 value: -16226.34 todayPL: $-2235.08 $-traded: 3328774 return: -0.00487 frac0: 0.4695 frac1: 0.5305\nDay 212 value: -14766.71 todayPL: $1459.63 $-traded: 3491973 return: -0.00423 frac0: 0.4672 frac1: 0.5328\nDay 213 value: -17090.83 todayPL: $-2324.12 $-traded: 3642600 return: -0.00469 frac0: 0.4651 frac1: 0.5349\nDay 214 value: -17725.87 todayPL: $-635.04 $-traded: 3863526 return: -0.00459 frac0: 0.4614 frac1: 0.5386\nDay 215 value: -16945.67 todayPL: $780.20 $-traded: 4049588 return: -0.00418 frac0: 0.4687 frac1: 0.5313\nDay 216 value: -17496.38 todayPL: $-550.71 $-traded: 4301514 return: -0.00407 frac0: 0.4676 frac1: 0.5324\nDay 217 value: -18144.93 todayPL: $-648.55 $-traded: 4494963 return: -0.00404 frac0: 0.4674 frac1: 0.5326\nDay 218 value: -21136.22 todayPL: $-2991.29 $-traded: 4641405 return: -0.00455 frac0: 0.4653 frac1: 0.5347\nDay 219 value: -22420.57 todayPL: $-1284.34 $-traded: 4784071 return: -0.00469 frac0: 0.4581 frac1: 0.5419\nDay 220 value: -21598.30 todayPL: $822.27 $-traded: 4944648 return: -0.00437 frac0: 0.4504 frac1: 0.5496\nDay 221 value: -25313.82 todayPL: $-3715.52 $-traded: 5079685 return: -0.00498 frac0: 0.4453 frac1: 0.5547\nDay 222 value: -20917.12 todayPL: $4396.70 $-traded: 5243608 return: -0.00399 frac0: 0.4451 frac1: 0.5549\nDay 223 value: -28173.58 todayPL: $-7256.46 $-traded: 5455544 return: -0.00516 frac0: 0.4448 frac1: 0.5552\nDay 224 value: -29192.20 todayPL: $-1018.62 $-traded: 5631268 return: -0.00518 frac0: 0.4449 frac1: 0.5551\nDay 225 value: -29006.16 todayPL: $186.04 $-traded: 5891223 return: -0.00492 frac0: 0.4451 frac1: 0.5549\nDay 226 value: -29150.75 todayPL: $-144.59 $-traded: 6031202 return: -0.00483 frac0: 0.4445 frac1: 0.5555\nDay 227 value: -26666.78 todayPL: $2483.97 $-traded: 6137770 return: -0.00434 frac0: 0.4409 frac1: 0.5591\nDay 228 value: -27136.72 todayPL: $-469.94 $-traded: 6325527 return: -0.00429 frac0: 0.4388 frac1: 0.5612\nDay 229 value: -31708.34 todayPL: $-4571.62 $-traded: 6448371 return: -0.00492 frac0: 0.4357 frac1: 0.5643\nDay 230 value: -28310.34 todayPL: $3398.00 $-traded: 6563714 return: -0.00431 frac0: 0.4333 frac1: 0.5667\nDay 231 value: -29874.57 todayPL: $-1564.22 $-traded: 6628361 return: -0.00451 frac0: 0.4347 frac1: 0.5653\nDay 232 value: -28260.91 todayPL: $1613.66 $-traded: 6710136 return: -0.00421 frac0: 0.4358 frac1: 0.5642\nDay 233 value: -22900.15 todayPL: $5360.75 $-traded: 6827699 return: -0.00335 frac0: 0.4389 frac1: 0.5611\nDay 234 value: -28816.76 todayPL: $-5916.61 $-traded: 6982745 return: -0.00413 frac0: 0.4389 frac1: 0.5611\nDay 235 value: -28346.30 todayPL: $470.46 $-traded: 7114302 return: -0.00398 frac0: 0.4370 frac1: 0.5630\nDay 236 value: -30203.03 todayPL: $-1856.73 $-traded: 7245164 return: -0.00417 frac0: 0.4332 frac1: 0.5668\nDay 237 value: -29395.69 todayPL: $807.34 $-traded: 7368981 return: -0.00399 frac0: 0.4295 frac1: 0.5705\nDay 238 value: -31941.57 todayPL: $-2545.87 $-traded: 7488637 return: -0.00427 frac0: 0.4272 frac1: 0.5728\nDay 239 value: -29515.69 todayPL: $2425.87 $-traded: 7582052 return: -0.00389 frac0: 0.4270 frac1: 0.5730\nDay 240 value: -31799.65 todayPL: $-2283.96 $-traded: 7713339 return: -0.00412 frac0: 0.4258 frac1: 0.5742\nDay 241 value: -32454.31 todayPL: $-654.66 $-traded: 7866882 return: -0.00413 frac0: 0.4245 frac1: 0.5755\nDay 242 value: -33446.31 todayPL: $-992.00 $-traded: 8014337 return: -0.00417 frac0: 0.4256 frac1: 0.5744\nDay 243 value: -34240.55 todayPL: $-794.24 $-traded: 8156094 return: -0.00420 frac0: 0.4255 frac1: 0.5745\nDay 244 value: -36012.13 todayPL: $-1771.58 $-traded: 8313895 return: -0.00433 frac0: 0.4240 frac1: 0.5760\nDay 245 value: -33249.66 todayPL: $2762.48 $-traded: 8413832 return: -0.00395 frac0: 0.4237 frac1: 0.5763\nDay 246 value: -34984.79 todayPL: $-1735.13 $-traded: 8535105 return: -0.00410 frac0: 0.4218 frac1: 0.5782\nDay 247 value: -40656.70 todayPL: $-5671.92 $-traded: 8660192 return: -0.00469 frac0: 0.4209 frac1: 0.5791\nDay 248 value: -38291.14 todayPL: $2365.56 $-traded: 8753841 return: -0.00437 frac0: 0.4198 frac1: 0.5802\nDay 249 value: -36839.96 todayPL: $1451.18 $-traded: 8852252 return: -0.00416 frac0: 0.4206 frac1: 0.5794\nDay 250 value: -40697.26 todayPL: $-3857.30 $-traded: 9011218 return: -0.00452 frac0: 0.4190 frac1: 0.5810\n=====\nmean(PL): -814\nreturn: -0.00452\nannSharpe(PL): -4.62 \ntotDvolume: 9011218 \n"
     ]
    }
   ],
   "source": [
    "# run eval.py code here\n",
    "!python eval.py"
   ]
  },
  {
   "cell_type": "code",
   "execution_count": null,
   "metadata": {},
   "outputs": [],
   "source": []
  }
 ]
}