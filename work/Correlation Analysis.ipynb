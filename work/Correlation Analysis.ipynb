{
 "cells": [
  {
   "cell_type": "code",
   "execution_count": 37,
   "id": "778bc7ea",
   "metadata": {},
   "outputs": [
    {
     "name": "stdout",
     "output_type": "stream",
     "text": [
      "-0.9141582908347424\n",
      "-0.853162204360856\n",
      "-0.8745744298366399\n",
      "-0.927054843457693\n",
      "-0.9433872068801392\n",
      "0.8912705788999017\n",
      "0.9210542080541504\n",
      "0.8900402097957252\n",
      "[(8, 9), (8, 11), (9, 41), (13, 22), (13, 26), (9, 37), (22, 26), (36, 37)]\n"
     ]
    }
   ],
   "source": [
    "import numpy as np\n",
    "import pandas as pd\n",
    "import matplotlib.pyplot as plt\n",
    "import seaborn as sns\n",
    "\n",
    "\n",
    "df = pd.read_csv('prices250.txt', sep='\\s+', header=None, index_col=None)\n",
    "short_df = df.iloc[:200,:]\n",
    "corr_df = short_df.corr(method='pearson')\n",
    "actual_corr_df = df.corr(method='pearson')\n",
    "\n",
    "high_corr_var = np.where(corr_df > 0.9)\n",
    "high_corr_var=[(corr_df.columns[x],corr_df.columns[y]) for x,y in zip(*high_corr_var) if x!=y and x<y]\n",
    "neg_corr_var = np.where(corr_df< -0.9)\n",
    "neg_corr_var=[(corr_df.columns[x],corr_df.columns[y]) for x,y in zip(*neg_corr_var) if x!=y and x<y]\n",
    "stocks_to_check =  neg_corr_var + high_corr_var\n",
    "\n",
    "\n",
    "high_corr_var = np.where(actual_corr_df>0.9)\n",
    "high_corr_var=[(actual_corr_df.columns[x],actual_corr_df.columns[y]) for x,y in zip(*high_corr_var) if x!=y and x<y]\n",
    "neg_corr_var = np.where(actual_corr_df< -0.9)\n",
    "neg_corr_var=[(actual_corr_df.columns[x],actual_corr_df.columns[y]) for x,y in zip(*neg_corr_var) if x!=y and x<y]\n",
    "actual_high_correlation_stocks =  neg_corr_var + high_corr_var\n",
    "\n",
    "for i,j in stocks_to_check:\n",
    "    print(actual_corr_df.iloc[i,j])\n",
    "\n",
    "\n",
    "\n",
    "\n",
    "print(stocks_to_check)\n",
    "# print(stocks_to_check2)\n",
    "\n",
    "# mask = np.zeros_like(corr_df) \n",
    "# mask[np.triu_indices_from(mask)] = True\n",
    "\n",
    "#  #generate plot\n",
    "\n",
    "# sns.heatmap(corr_df, cmap='RdYlGn', vmax=1.0, vmin=-1.0 , mask = mask, linewidths=2.5)\n",
    "\n",
    "# plt.yticks(rotation=0) \n",
    "\n",
    "# plt.xticks(rotation=90) \n",
    "\n",
    "# plt.show()\n"
   ]
  },
  {
   "cell_type": "code",
   "execution_count": 11,
   "id": "86c5a1fa",
   "metadata": {},
   "outputs": [
    {
     "name": "stdout",
     "output_type": "stream",
     "text": [
      "Collecting seaborn\n",
      "  Downloading seaborn-0.11.1-py3-none-any.whl (285 kB)\n",
      "\u001b[K     |████████████████████████████████| 285 kB 2.8 MB/s eta 0:00:01\n",
      "\u001b[?25hRequirement already satisfied: scipy>=1.0 in /Library/Frameworks/Python.framework/Versions/3.8/lib/python3.8/site-packages (from seaborn) (1.6.2)\n",
      "Requirement already satisfied: numpy>=1.15 in /Library/Frameworks/Python.framework/Versions/3.8/lib/python3.8/site-packages (from seaborn) (1.19.2)\n",
      "Requirement already satisfied: matplotlib>=2.2 in /Library/Frameworks/Python.framework/Versions/3.8/lib/python3.8/site-packages (from seaborn) (3.4.1)\n",
      "Requirement already satisfied: pandas>=0.23 in /Library/Frameworks/Python.framework/Versions/3.8/lib/python3.8/site-packages (from seaborn) (1.2.5)\n",
      "Requirement already satisfied: python-dateutil>=2.7 in /Library/Frameworks/Python.framework/Versions/3.8/lib/python3.8/site-packages (from matplotlib>=2.2->seaborn) (2.8.1)\n",
      "Requirement already satisfied: pillow>=6.2.0 in /Library/Frameworks/Python.framework/Versions/3.8/lib/python3.8/site-packages (from matplotlib>=2.2->seaborn) (7.1.2)\n",
      "Requirement already satisfied: cycler>=0.10 in /Library/Frameworks/Python.framework/Versions/3.8/lib/python3.8/site-packages (from matplotlib>=2.2->seaborn) (0.10.0)\n",
      "Requirement already satisfied: kiwisolver>=1.0.1 in /Library/Frameworks/Python.framework/Versions/3.8/lib/python3.8/site-packages (from matplotlib>=2.2->seaborn) (1.3.1)\n",
      "Requirement already satisfied: pyparsing>=2.2.1 in /Library/Frameworks/Python.framework/Versions/3.8/lib/python3.8/site-packages (from matplotlib>=2.2->seaborn) (2.4.7)\n",
      "Requirement already satisfied: pytz>=2017.3 in /Library/Frameworks/Python.framework/Versions/3.8/lib/python3.8/site-packages (from pandas>=0.23->seaborn) (2021.1)\n",
      "Requirement already satisfied: six>=1.5 in /Library/Frameworks/Python.framework/Versions/3.8/lib/python3.8/site-packages (from python-dateutil>=2.7->matplotlib>=2.2->seaborn) (1.15.0)\n",
      "Installing collected packages: seaborn\n",
      "Successfully installed seaborn-0.11.1\n",
      "\u001b[33mWARNING: You are using pip version 20.2.3; however, version 21.1.3 is available.\n",
      "You should consider upgrading via the '/Library/Frameworks/Python.framework/Versions/3.8/bin/python3.8 -m pip install --upgrade pip' command.\u001b[0m\n"
     ]
    }
   ],
   "source": []
  }
 ],
 "metadata": {
  "kernelspec": {
   "display_name": "Python 3",
   "language": "python",
   "name": "python3"
  },
  "language_info": {
   "codemirror_mode": {
    "name": "ipython",
    "version": 3
   },
   "file_extension": ".py",
   "mimetype": "text/x-python",
   "name": "python",
   "nbconvert_exporter": "python",
   "pygments_lexer": "ipython3",
   "version": "3.8.1"
  }
 },
 "nbformat": 4,
 "nbformat_minor": 5
}
