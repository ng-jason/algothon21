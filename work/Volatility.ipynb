{
 "cells": [
  {
   "cell_type": "markdown",
   "id": "6d627134",
   "metadata": {},
   "source": [
    "# Volatility measure"
   ]
  },
  {
   "cell_type": "markdown",
   "id": "7033ae88",
   "metadata": {},
   "source": [
    "### SD , SD as pct of mean price"
   ]
  },
  {
   "cell_type": "code",
   "execution_count": 2,
   "id": "1f5c67d1",
   "metadata": {},
   "outputs": [],
   "source": [
    "DAYS = 150 # no of days, use 250 for modelling next round"
   ]
  },
  {
   "cell_type": "code",
   "execution_count": 3,
   "id": "d697dd56",
   "metadata": {},
   "outputs": [],
   "source": [
    "import math\n",
    "import numpy as np\n",
    "data = np.loadtxt(\"prices250.txt\")"
   ]
  },
  {
   "cell_type": "code",
   "execution_count": 4,
   "id": "deea2627",
   "metadata": {},
   "outputs": [],
   "source": [
    "sd = [] # sd from mean for each stock\n",
    "sd_pct = [] # sd as percentage of mean price\n",
    "for i in range(0, 100):\n",
    "    prices = []\n",
    "    for j in range(0, DAYS):\n",
    "        prices.append(data[j][i])\n",
    "    \n",
    "    # mean\n",
    "    mean = 0\n",
    "    for k in prices:\n",
    "        mean += k\n",
    "    mean = mean / len(prices)\n",
    "    \n",
    "    # variance\n",
    "    var = 0\n",
    "    for k in prices:\n",
    "        var += (k - mean)*(k - mean)\n",
    "    var = var / len(prices)\n",
    "    \n",
    "    sd_i = math.sqrt(var)\n",
    "    sd.append(sd_i)\n",
    "    sd_pct_i = sd_i / mean * 100\n",
    "    sd_pct.append(sd_pct_i)"
   ]
  },
  {
   "cell_type": "code",
   "execution_count": 5,
   "id": "fa763871",
   "metadata": {},
   "outputs": [
    {
     "name": "stdout",
     "output_type": "stream",
     "text": [
      "0.9758820111141504\n",
      "0.7354442219351891\n",
      "0.7944092569789827\n",
      "0.4065377923799919\n",
      "0.5804631342334138\n"
     ]
    }
   ],
   "source": [
    "# < 1 pct volatility\n",
    "for i in sd_pct:\n",
    "    if i<1:\n",
    "        print(i)"
   ]
  },
  {
   "cell_type": "markdown",
   "id": "45a74e44",
   "metadata": {},
   "source": [
    "### is pct sd a better measure or sd???"
   ]
  }
 ],
 "metadata": {
  "kernelspec": {
   "display_name": "Python 3 (ipykernel)",
   "language": "python",
   "name": "python3"
  },
  "language_info": {
   "codemirror_mode": {
    "name": "ipython",
    "version": 3
   },
   "file_extension": ".py",
   "mimetype": "text/x-python",
   "name": "python",
   "nbconvert_exporter": "python",
   "pygments_lexer": "ipython3",
   "version": "3.9.5"
  }
 },
 "nbformat": 4,
 "nbformat_minor": 5
}
