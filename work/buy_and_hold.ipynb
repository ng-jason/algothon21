{
 "cells": [
  {
   "cell_type": "markdown",
   "id": "22f1c6a1",
   "metadata": {},
   "source": [
    "# Summary\n",
    "\n",
    "| strategy                                               | parameters               | mean(PL) | return  | annSharp(PL) | totDvolume |\n",
    "|--------------------------------------------------------|--------------------------|----------|---------|--------------|------------|\n",
    "| Buy and hold (do not sell at end of 250 days)          | all 100 stocks, 250 days |       58 | 0.00467 |         0.22 |    3132449 |\n",
    "| Buy and hold (sell at end of 250 days)                 | all 100 stocks, 250 days |       40 | 0.00242 |         0.14 |    4080282 |\n",
    "| Buy and hold only stocks that increase during 250 days |                 250 days |       88 | 0.04254 |         1.31 |     516498 |\n",
    "| Same as above (selling at end)                         |                 250 days |       82 | 0.02517 |         1.23 |     813868 |"
   ]
  },
  {
   "cell_type": "code",
   "execution_count": 3,
   "id": "e0a4613d",
   "metadata": {},
   "outputs": [],
   "source": [
    "import matplotlib.pyplot as plt\n",
    "import numpy as np\n",
    "import pandas as pd\n",
    "import seaborn as sns"
   ]
  },
  {
   "cell_type": "code",
   "execution_count": 4,
   "id": "502f0ed3",
   "metadata": {},
   "outputs": [
    {
     "name": "stdout",
     "output_type": "stream",
     "text": [
      "Loaded 100 instruments for 250 days\n"
     ]
    }
   ],
   "source": [
    "# from teamName.py\n",
    "#!/usr/bin/envblah python\n",
    "\n",
    "import numpy as np\n",
    "import pandas as pd\n",
    "# from teamName import getMyPosition as getPosition\n",
    "\n",
    "# Algorithm testing file. \n",
    "# Quantitative judging will be determined from output of this program.\n",
    "# Judging will use unseeen, future price data from the same universe.\n",
    "\n",
    "nInst = 0\n",
    "nt = 0\n",
    "\n",
    "# Commission rate.\n",
    "commRate = 0.0050\n",
    "\n",
    "# Dollar position limit (maximum absolute dollar value of any individual stock position).\n",
    "dlrPosLimit = 10000\n",
    "\n",
    "def loadPrices(fn):\n",
    "    global nt, nInst\n",
    "    df=pd.read_csv(fn, sep='\\s+', header=None, index_col=None)\n",
    "    nt, nInst = df.values.shape\n",
    "    return (df.values).T\n",
    "\n",
    "pricesFile=\"./prices250.txt\"\n",
    "prcAll = loadPrices(pricesFile)\n",
    "print (\"Loaded %d instruments for %d days\" % (nInst, nt))\n",
    "\n",
    "def calcPL(prcHist):\n",
    "    cash = 0\n",
    "    curPos = np.zeros(nInst)\n",
    "    totDVolume = 0\n",
    "    totDVolume0 = 0\n",
    "    totDVolume1 = 0\n",
    "    frac0 = 0.\n",
    "    frac1 = 0.\n",
    "    value = 0\n",
    "    valueData = []  # for plotting results\n",
    "    todayPLL = []\n",
    "    (_,nt) = prcHist.shape\n",
    "    for t in range(1, 251):  # changed this to (0, 251) from (201, 251)\n",
    "        prcHistSoFar = prcHist[:,:t]\n",
    "        newPosOrig = getPosition(prcHistSoFar)\n",
    "        curPrices = prcHistSoFar[:,-1] \n",
    "        posLimits = np.array([int(x) for x in dlrPosLimit / curPrices])\n",
    "        newPos = np.array([int(p) for p in np.clip(newPosOrig, -posLimits, posLimits)])\n",
    "        deltaPos = newPos - curPos\n",
    "        dvolumes = curPrices * np.abs(deltaPos)\n",
    "        dvolume0 = np.sum(dvolumes[:50])\n",
    "        dvolume1 = np.sum(dvolumes[50:])\n",
    "        dvolume = np.sum(dvolumes)\n",
    "        totDVolume += dvolume\n",
    "        totDVolume0 += dvolume0\n",
    "        totDVolume1 += dvolume1\n",
    "        comm = dvolume * commRate\n",
    "        cash -= curPrices.dot(deltaPos) + comm\n",
    "        curPos = np.array(newPos)\n",
    "        posValue = curPos.dot(curPrices)\n",
    "        todayPL = cash + posValue - value\n",
    "        todayPLL.append(todayPL)\n",
    "        value = cash + posValue\n",
    "        valueData.append(value)  # for plotting results\n",
    "        ret = 0.0\n",
    "        if (totDVolume > 0):\n",
    "            ret = value / totDVolume\n",
    "            frac0 = totDVolume0 / totDVolume\n",
    "            frac1 = totDVolume1 / totDVolume\n",
    "        # old print\n",
    "        # print (\"Day %d value: %.2lf todayPL: $%.2lf $-traded: %.0lf return: %.5lf frac0: %.4lf frac1: %.4lf\" % (t,value, todayPL, totDVolume, ret, frac0, frac1))\n",
    "#         print (\"Day %3d value: %9.2lf todayPL: $%8.2lf $-traded: %7.0lf return: %8.5lf frac0: %6.4lf frac1: %6.4lf\" % (t,value, todayPL, totDVolume, ret, frac0, frac1))\n",
    "    pll = np.array(todayPLL)\n",
    "    (plmu,plstd) = (np.mean(pll), np.std(pll))\n",
    "    annSharpe = 0.0\n",
    "    if (plstd > 0):\n",
    "        annSharpe = 16 * plmu / plstd\n",
    "    \n",
    "#     plt.figure(figsize=(10, 8))\n",
    "#     sns.lineplot(x=range(1, 251), y=valueData)\n",
    "    \n",
    "    return (plmu, ret, annSharpe, totDVolume, todayPLL4)"
   ]
  },
  {
   "cell_type": "code",
   "execution_count": 5,
   "id": "c471627f",
   "metadata": {},
   "outputs": [],
   "source": [
    "# Baseline? Buy and Hold strategy, buys max position for all 100 instruments and sells at the end of the trading period (250 days)\n",
    "# sells at the end of the trading period\n",
    "\n",
    "posLimit = 10000\n",
    "\n",
    "currentPos = np.zeros(nInst) \n",
    "day = 1\n",
    "\n",
    "sell = False\n",
    "\n",
    "def getMyPosition(prcSoFar):\n",
    "    global day\n",
    "    global currentPos\n",
    "    \n",
    "#     print(prcSoFar)\n",
    "#     print([price[0] for price in prcSoFar])\n",
    "#     print(prcSoFar[:, -1])\n",
    "    \n",
    "    newPos = None\n",
    "    if day == 1:  # buy\n",
    "        print(\"Buying\")\n",
    "        newPos = posLimit // prcSoFar[:, -1]  # [posLimit // price[0] for price in prcSoFar]\n",
    "    if day == 250 and sell:  # selling at end of day does affect results\n",
    "        print(\"Selling\")\n",
    "        newPos = np.zeros(nInst)\n",
    "    if newPos is not None:\n",
    "        print(f\"Transaction cost ${round(transactionCost(prcSoFar, currentPos, newPos), 2)}\")\n",
    "        currentPos = newPos\n",
    "    day += 1\n",
    "    return currentPos\n",
    "\n",
    "getPosition = getMyPosition"
   ]
  },
  {
   "cell_type": "code",
   "execution_count": 6,
   "id": "3677a7c4",
   "metadata": {},
   "outputs": [],
   "source": [
    "def transactionCost(prcSoFar, currentPos, newPos):\n",
    "    \"\"\"\n",
    "    Returns transaction cost for new position.\n",
    "\n",
    "        transaction cost = 0.0050 * totalDollarVolumeTraded\n",
    "\n",
    "    from eval.py\n",
    "    \"\"\"\n",
    "    # Commission rate\n",
    "    commRate = 0.0050\n",
    "    currentPrices = prcSoFar[:,-1] \n",
    "    deltaPos = newPos - currentPos\n",
    "    dvolumes = currentPrices * np.abs(deltaPos)\n",
    "    dvolume0 = np.sum(dvolumes[:50])\n",
    "    dvolume1 = np.sum(dvolumes[50:])\n",
    "    dvolume = np.sum(dvolumes)\n",
    "    return dvolume * commRate"
   ]
  },
  {
   "cell_type": "code",
   "execution_count": 7,
   "id": "4b4fb48e",
   "metadata": {},
   "outputs": [
    {
     "name": "stdout",
     "output_type": "stream",
     "text": [
      "Buying\n",
      "Transaction cost $4995.24\n",
      "=====\n",
      "mean(PL): 58\n",
      "return: 0.00467\n",
      "annSharpe(PL): 0.22 \n",
      "totDvolume: 3132449 \n"
     ]
    },
    {
     "data": {
      "image/png": "[encoded data removed]",
      "text/plain": [
       "<Figure size 720x576 with 1 Axes>"
      ]
     },
     "metadata": {
      "needs_background": "light"
     },
     "output_type": "display_data"
    }
   ],
   "source": [
    "# Output\n",
    "(meanpl, ret, sharpe, dvol) = calcPL(prcAll)\n",
    "print (\"=====\")\n",
    "print (\"mean(PL): %.0lf\" % meanpl)\n",
    "print (\"return: %.5lf\" % ret)\n",
    "print (\"annSharpe(PL): %.2lf \" % sharpe)\n",
    "print (\"totDvolume: %.0lf \" % dvol)"
   ]
  },
  {
   "cell_type": "markdown",
   "id": "9081c447",
   "metadata": {},
   "source": [
    "Buy and hold, whether selling at end or not gives 40, 58 mean(PL) respectively which is very low. Try only buying and holding stocks that only add to PL"
   ]
  },
  {
   "cell_type": "code",
   "execution_count": 8,
   "id": "c53cefbc",
   "metadata": {},
   "outputs": [
    {
     "data": {
      "text/plain": [
       "array([[18.25, 18.22, 18.28, ..., 19.37, 19.22, 19.18],\n",
       "       [ 7.34,  7.35,  7.34, ...,  7.41,  7.39,  7.39],\n",
       "       [17.95, 18.01, 18.04, ..., 19.08, 19.11, 19.18],\n",
       "       ...,\n",
       "       [ 3.33,  3.31,  3.36, ...,  3.36,  3.37,  3.34],\n",
       "       [ 2.64,  2.63,  2.67, ...,  2.51,  2.59,  2.5 ],\n",
       "       [19.19, 19.75, 20.07, ..., 18.85, 19.16, 18.86]])"
      ]
     },
     "execution_count": 8,
     "metadata": {},
     "output_type": "execute_result"
    }
   ],
   "source": [
    "prcAll"
   ]
  },
  {
   "cell_type": "code",
   "execution_count": 9,
   "id": "142da8bb",
   "metadata": {},
   "outputs": [
    {
     "data": {
      "text/plain": [
       "array([18.25,  7.34, 17.95,  0.57,  2.41,  8.46, 17.57, 22.02, 16.62,\n",
       "        3.39, 34.05,  1.11,  7.45, 20.97, 29.95, 26.62, 30.52, 23.03,\n",
       "        5.02, 41.9 , 14.82,  1.84,  4.62, 10.71,  5.6 , 47.51, 13.67,\n",
       "       16.89, 12.21, 25.59, 26.68, 19.18, 14.77,  5.73, 30.72,  8.3 ,\n",
       "       17.58, 12.74, 23.42, 22.85,  7.84, 44.7 , 22.39, 79.97, 39.55,\n",
       "       57.86, 76.81, 30.88, 34.31, 47.13, 16.  , 10.24, 19.37, 13.18,\n",
       "       18.18,  9.47, 16.19, 16.89, 24.15,  0.5 , 16.58, 21.59, 11.29,\n",
       "       17.98, 19.34, 21.86, 15.36, 16.24,  9.92, 26.75, 17.  , 30.13,\n",
       "       27.99, 24.91,  9.37, 13.07, 19.69, 18.03, 21.96,  6.69, 19.61,\n",
       "       29.67, 18.62, 20.11,  3.98, 27.7 , 20.65, 20.34, 31.07, 11.6 ,\n",
       "        8.88, 20.75, 19.85, 20.22, 28.25, 16.67, 20.92,  3.33,  2.64,\n",
       "       19.19])"
      ]
     },
     "execution_count": 9,
     "metadata": {},
     "output_type": "execute_result"
    }
   ],
   "source": [
    "prcAll[:, 0]"
   ]
  },
  {
   "cell_type": "code",
   "execution_count": 10,
   "id": "77178331",
   "metadata": {},
   "outputs": [
    {
     "data": {
      "text/plain": [
       "array([19.18,  7.39, 19.18,  0.45,  2.35,  8.4 , 16.5 , 21.07, 20.28,\n",
       "        2.58, 33.81,  1.06,  7.77, 14.93, 27.27, 29.69, 30.25, 24.21,\n",
       "        5.49, 42.76, 14.24,  1.8 ,  7.11,  9.89,  6.01, 48.54, 14.94,\n",
       "       16.71, 12.33, 26.23, 25.59, 17.86, 14.87,  6.56, 30.59,  8.11,\n",
       "       16.63, 11.75, 23.46, 23.74,  8.32, 69.04, 17.88, 83.07, 35.75,\n",
       "       60.36, 66.36, 26.5 , 37.34, 41.94, 13.25,  8.85, 16.68, 12.96,\n",
       "       18.67,  8.89, 15.77, 17.16, 21.81,  0.5 , 14.81, 21.57, 10.12,\n",
       "       16.74, 18.7 , 21.51, 14.85, 15.39,  9.9 , 26.46, 15.34, 29.02,\n",
       "       26.57, 24.57,  8.87, 12.92, 18.57, 18.98, 22.68,  6.44, 18.8 ,\n",
       "       28.46, 18.02, 19.8 ,  3.8 , 26.72, 19.79, 20.33, 29.61, 11.53,\n",
       "        6.98, 19.  , 19.9 , 20.22, 27.04, 15.87, 19.34,  3.34,  2.5 ,\n",
       "       18.86])"
      ]
     },
     "execution_count": 10,
     "metadata": {},
     "output_type": "execute_result"
    }
   ],
   "source": [
    "prcAll[:, -1]"
   ]
  },
  {
   "cell_type": "code",
   "execution_count": 11,
   "id": "3d2c1362",
   "metadata": {},
   "outputs": [
    {
     "data": {
      "text/plain": [
       "(18.25, 19.18)"
      ]
     },
     "execution_count": 11,
     "metadata": {},
     "output_type": "execute_result"
    }
   ],
   "source": [
    "prcAll[0, 0], prcAll[0, -1]"
   ]
  },
  {
   "cell_type": "code",
   "execution_count": 12,
   "id": "4544fff3",
   "metadata": {},
   "outputs": [
    {
     "name": "stdout",
     "output_type": "stream",
     "text": [
      "[0, 1, 2, 8, 12, 15, 17, 18, 19, 22, 24, 25, 26, 28, 29, 32, 33, 38, 39, 40, 41, 43, 45, 48, 54, 57, 77, 78, 92, 97]\n"
     ]
    }
   ],
   "source": [
    "positive = [i for i in range(100) if prcAll[i, -1] - prcAll[i, 0] > 0]\n",
    "print(positive)"
   ]
  },
  {
   "cell_type": "code",
   "execution_count": 26,
   "id": "2ea85da2",
   "metadata": {},
   "outputs": [
    {
     "name": "stdout",
     "output_type": "stream",
     "text": [
      "[0, 1, 2, 8, 12, 15, 17, 18, 19, 22, 24, 25, 26, 28, 29, 32, 33, 39, 40, 41, 43, 45, 48, 54, 57, 77, 78]\n"
     ]
    }
   ],
   "source": [
    "positive_pct = [i for i in range(100) if prcAll[i, -1] /  prcAll[i, 0] > 1 + commRate]\n",
    "print(positive_pct)"
   ]
  },
  {
   "cell_type": "code",
   "execution_count": 13,
   "id": "9d5a1aeb",
   "metadata": {},
   "outputs": [
    {
     "name": "stdout",
     "output_type": "stream",
     "text": [
      "[521.0, 1353.0, 521.0, 0, 0, 0, 0, 0, 493.0, 0, 0, 0, 1287.0, 0, 0, 336.0, 0, 413.0, 1821.0, 233.0, 0, 0, 1406.0, 0, 1663.0, 206.0, 669.0, 0, 811.0, 381.0, 0, 0, 672.0, 1524.0, 0, 0, 0, 0, 426.0, 421.0, 1201.0, 144.0, 0, 120.0, 0, 165.0, 0, 0, 267.0, 0, 0, 0, 0, 0, 535.0, 0, 0, 582.0, 0, 0, 0, 0, 0, 0, 0, 0, 0, 0, 0, 0, 0, 0, 0, 0, 0, 0, 0, 526.0, 440.0, 0, 0, 0, 0, 0, 0, 0, 0, 0, 0, 0, 0, 0, 502.0, 0, 0, 0, 0, 2994.0, 0, 0]\n"
     ]
    }
   ],
   "source": [
    "# in more confusing list comprehension form\n",
    "print([posLimit // prcAll[i, -1] if i in positive else 0 for i in range(100)])"
   ]
  },
  {
   "cell_type": "code",
   "execution_count": 29,
   "id": "f9ca62ac",
   "metadata": {},
   "outputs": [],
   "source": [
    "# Baseline? Buy and Hold strategy, buys max position for all 100 instruments and sells at the end of the trading period (250 days)\n",
    "# sells at the end of the trading period\n",
    "\n",
    "posLimit = 10000\n",
    "\n",
    "currentPos = np.zeros(nInst) \n",
    "day = 1\n",
    "\n",
    "sell = False\n",
    "\n",
    "def getMyPosition(prcSoFar):\n",
    "    global day\n",
    "    global currentPos\n",
    "    \n",
    "#     print(prcSoFar)\n",
    "#     print([price[0] for price in prcSoFar])\n",
    "#     print(prcSoFar[:, -1])\n",
    "    \n",
    "    newPos = None\n",
    "    if day == 1:  # buy\n",
    "        print(\"Buying\")\n",
    "        newPos = [posLimit // prcAll[i, -1] if i in positive_pct else 0 for i in range(100)]\n",
    "    if day == 250 and sell:  # selling at end of day does affect results\n",
    "        print(\"Selling\")\n",
    "        newPos = np.zeros(nInst)\n",
    "    if newPos is not None:\n",
    "        print(f\"Transaction cost ${round(transactionCost(prcSoFar, currentPos, newPos), 2)}\")\n",
    "        currentPos = newPos\n",
    "    day += 1\n",
    "    return currentPos\n",
    "\n",
    "getPosition = getMyPosition"
   ]
  },
  {
   "cell_type": "code",
   "execution_count": 30,
   "id": "84dfdf97",
   "metadata": {},
   "outputs": [
    {
     "name": "stdout",
     "output_type": "stream",
     "text": [
      "Buying\n",
      "Transaction cost $1247.31\n",
      "=====\n",
      "mean(PL): 84\n",
      "return: 0.05074\n",
      "annSharpe(PL): 1.46 \n",
      "totDvolume: 411927 \n"
     ]
    },
    {
     "data": {
      "image/png": "[encoded data removed]",
      "text/plain": [
       "<Figure size 720x576 with 1 Axes>"
      ]
     },
     "metadata": {
      "needs_background": "light"
     },
     "output_type": "display_data"
    }
   ],
   "source": [
    "# Output\n",
    "(meanpl, ret, sharpe, dvol) = calcPL(prcAll)\n",
    "print (\"=====\")\n",
    "print (\"mean(PL): %.0lf\" % meanpl)\n",
    "print (\"return: %.5lf\" % ret)\n",
    "print (\"annSharpe(PL): %.2lf \" % sharpe)\n",
    "print (\"totDvolume: %.0lf \" % dvol)"
   ]
  },
  {
   "cell_type": "code",
   "execution_count": 18,
   "id": "4b7b2266",
   "metadata": {},
   "outputs": [
    {
     "name": "stdout",
     "output_type": "stream",
     "text": [
      "[]\n"
     ]
    }
   ],
   "source": [
    "short = [i for i in range(100) if prcAll[i, -1] / prcAll[i, 0] < -0.005]\n",
    "print(short)"
   ]
  },
  {
   "cell_type": "code",
   "execution_count": 23,
   "id": "1eb6c29e",
   "metadata": {},
   "outputs": [
    {
     "data": {
      "text/plain": [
       "1.050958904109589"
      ]
     },
     "execution_count": 23,
     "metadata": {},
     "output_type": "execute_result"
    }
   ],
   "source": [
    "prcAll[0, -1] / prcAll[0, 0] > "
   ]
  },
  {
   "cell_type": "code",
   "execution_count": 31,
   "id": "ad0a9773",
   "metadata": {},
   "outputs": [
    {
     "name": "stdout",
     "output_type": "stream",
     "text": [
      "[-0.11999999999999994, -0.06000000000000005, -0.0600000000000005, -1.0700000000000003, -0.9499999999999993, -0.81, -0.23999999999999488, -0.050000000000000044, -6.039999999999999, -2.6799999999999997, -0.2699999999999996, -0.5800000000000001, -0.040000000000000036, -0.8200000000000003, -0.17999999999999972, -1.0899999999999999, -1.3200000000000003, -0.129999999999999, -0.19000000000000128, -0.9499999999999993, -0.9900000000000002, -4.510000000000002, -3.799999999999997, -10.450000000000003, -4.379999999999999, -5.190000000000005, -2.75, -1.3900000000000006, -2.6900000000000013, -0.21999999999999886, -0.5800000000000001, -0.4200000000000017, -2.34, -1.7699999999999978, -0.019999999999999574, -1.17, -1.240000000000002, -0.6400000000000006, -0.34999999999999787, -0.5099999999999998, -0.8499999999999979, -0.019999999999999574, -0.28999999999999915, -1.6600000000000001, -1.1099999999999994, -1.4199999999999982, -0.33999999999999986, -0.5, -0.15000000000000036, -1.120000000000001, -0.25, -0.8099999999999987, -1.2100000000000009, -0.6000000000000014, -0.3099999999999987, -0.18000000000000016, -0.9800000000000004, -0.8599999999999994, -0.010000000000001563, -1.4600000000000009, -0.07000000000000028, -1.9000000000000004, -1.75, -1.2100000000000009, -0.8000000000000025, -1.5800000000000018, -0.14000000000000012, -0.33000000000000185]\n"
     ]
    }
   ],
   "source": [
    "shortValue = [prcAll[i, -1] - prcAll[i, 0] for i in short]\n",
    "print(shortValue)"
   ]
  },
  {
   "cell_type": "code",
   "execution_count": 34,
   "id": "8a464364",
   "metadata": {},
   "outputs": [
    {
     "data": {
      "text/html": [
       "<div>\n",
       "<style scoped>\n",
       "    .dataframe tbody tr th:only-of-type {\n",
       "        vertical-align: middle;\n",
       "    }\n",
       "\n",
       "    .dataframe tbody tr th {\n",
       "        vertical-align: top;\n",
       "    }\n",
       "\n",
       "    .dataframe thead th {\n",
       "        text-align: right;\n",
       "    }\n",
       "</style>\n",
       "<table border=\"1\" class=\"dataframe\">\n",
       "  <thead>\n",
       "    <tr style=\"text-align: right;\">\n",
       "      <th></th>\n",
       "      <th>0</th>\n",
       "    </tr>\n",
       "  </thead>\n",
       "  <tbody>\n",
       "    <tr>\n",
       "      <th>3</th>\n",
       "      <td>-0.12</td>\n",
       "    </tr>\n",
       "    <tr>\n",
       "      <th>4</th>\n",
       "      <td>-0.06</td>\n",
       "    </tr>\n",
       "    <tr>\n",
       "      <th>5</th>\n",
       "      <td>-0.06</td>\n",
       "    </tr>\n",
       "    <tr>\n",
       "      <th>6</th>\n",
       "      <td>-1.07</td>\n",
       "    </tr>\n",
       "    <tr>\n",
       "      <th>7</th>\n",
       "      <td>-0.95</td>\n",
       "    </tr>\n",
       "  </tbody>\n",
       "</table>\n",
       "</div>"
      ],
      "text/plain": [
       "      0\n",
       "3 -0.12\n",
       "4 -0.06\n",
       "5 -0.06\n",
       "6 -1.07\n",
       "7 -0.95"
      ]
     },
     "execution_count": 34,
     "metadata": {},
     "output_type": "execute_result"
    }
   ],
   "source": [
    "short_df = pd.DataFrame(index=short, data=shortValue)\n",
    "short_df.head()"
   ]
  },
  {
   "cell_type": "code",
   "execution_count": 37,
   "id": "158e985e",
   "metadata": {},
   "outputs": [
    {
     "data": {
      "text/html": [
       "<div>\n",
       "<style scoped>\n",
       "    .dataframe tbody tr th:only-of-type {\n",
       "        vertical-align: middle;\n",
       "    }\n",
       "\n",
       "    .dataframe tbody tr th {\n",
       "        vertical-align: top;\n",
       "    }\n",
       "\n",
       "    .dataframe thead th {\n",
       "        text-align: right;\n",
       "    }\n",
       "</style>\n",
       "<table border=\"1\" class=\"dataframe\">\n",
       "  <thead>\n",
       "    <tr style=\"text-align: right;\">\n",
       "      <th></th>\n",
       "      <th>0</th>\n",
       "    </tr>\n",
       "  </thead>\n",
       "  <tbody>\n",
       "    <tr>\n",
       "      <th>46</th>\n",
       "      <td>-10.45</td>\n",
       "    </tr>\n",
       "    <tr>\n",
       "      <th>13</th>\n",
       "      <td>-6.04</td>\n",
       "    </tr>\n",
       "    <tr>\n",
       "      <th>49</th>\n",
       "      <td>-5.19</td>\n",
       "    </tr>\n",
       "    <tr>\n",
       "      <th>42</th>\n",
       "      <td>-4.51</td>\n",
       "    </tr>\n",
       "    <tr>\n",
       "      <th>47</th>\n",
       "      <td>-4.38</td>\n",
       "    </tr>\n",
       "    <tr>\n",
       "      <th>...</th>\n",
       "      <td>...</td>\n",
       "    </tr>\n",
       "    <tr>\n",
       "      <th>11</th>\n",
       "      <td>-0.05</td>\n",
       "    </tr>\n",
       "    <tr>\n",
       "      <th>21</th>\n",
       "      <td>-0.04</td>\n",
       "    </tr>\n",
       "    <tr>\n",
       "      <th>61</th>\n",
       "      <td>-0.02</td>\n",
       "    </tr>\n",
       "    <tr>\n",
       "      <th>68</th>\n",
       "      <td>-0.02</td>\n",
       "    </tr>\n",
       "    <tr>\n",
       "      <th>87</th>\n",
       "      <td>-0.01</td>\n",
       "    </tr>\n",
       "  </tbody>\n",
       "</table>\n",
       "<p>68 rows × 1 columns</p>\n",
       "</div>"
      ],
      "text/plain": [
       "        0\n",
       "46 -10.45\n",
       "13  -6.04\n",
       "49  -5.19\n",
       "42  -4.51\n",
       "47  -4.38\n",
       "..    ...\n",
       "11  -0.05\n",
       "21  -0.04\n",
       "61  -0.02\n",
       "68  -0.02\n",
       "87  -0.01\n",
       "\n",
       "[68 rows x 1 columns]"
      ]
     },
     "execution_count": 37,
     "metadata": {},
     "output_type": "execute_result"
    }
   ],
   "source": [
    "short_df.sort_values(by=0)"
   ]
  },
  {
   "cell_type": "code",
   "execution_count": 1,
   "id": "e3d5fe14",
   "metadata": {},
   "outputs": [
    {
     "ename": "NameError",
     "evalue": "name 'prcAll' is not defined",
     "output_type": "error",
     "traceback": [
      "\u001b[1;31m---------------------------------------------------------------------------\u001b[0m",
      "\u001b[1;31mNameError\u001b[0m                                 Traceback (most recent call last)",
      "\u001b[1;32m<ipython-input-1-95b17481080a>\u001b[0m in \u001b[0;36m<module>\u001b[1;34m\u001b[0m\n\u001b[1;32m----> 1\u001b[1;33m \u001b[0mprcAll\u001b[0m\u001b[1;33m[\u001b[0m\u001b[1;33m:\u001b[0m\u001b[1;33m,\u001b[0m \u001b[1;36m0\u001b[0m\u001b[1;33m]\u001b[0m\u001b[1;33m\u001b[0m\u001b[1;33m\u001b[0m\u001b[0m\n\u001b[0m",
      "\u001b[1;31mNameError\u001b[0m: name 'prcAll' is not defined"
     ]
    }
   ],
   "source": [
    "# do pct_change on pctAll[0] vs pctAll[-1] to get highest percentage changes\n"
   ]
  },
  {
   "cell_type": "code",
   "execution_count": 39,
   "id": "0ebbf02a",
   "metadata": {},
   "outputs": [
    {
     "data": {
      "text/plain": [
       "(76.81, 66.36)"
      ]
     },
     "execution_count": 39,
     "metadata": {},
     "output_type": "execute_result"
    }
   ],
   "source": [
    "prcAll[46, 0], prcAll[46, -1]"
   ]
  },
  {
   "cell_type": "code",
   "execution_count": 40,
   "id": "58bb0bce",
   "metadata": {},
   "outputs": [],
   "source": [
    "# shorting\n",
    "posLimit = 10000\n",
    "\n",
    "currentPos = np.zeros(nInst) \n",
    "day = 1\n",
    "\n",
    "sell = False\n",
    "\n",
    "def getMyPosition(prcSoFar):\n",
    "    global day\n",
    "    global currentPos\n",
    "    \n",
    "#     print(prcSoFar)\n",
    "#     print([price[0] for price in prcSoFar])\n",
    "#     print(prcSoFar[:, -1])\n",
    "    \n",
    "    newPos = None\n",
    "    if day == 1:  # buy\n",
    "        print(\"Buying\")\n",
    "        newPos = [-posLimit // prcAll[i, -1] if i in short else 0 for i in range(100)]\n",
    "    if day == 250 and sell:  # selling at end of day does affect results\n",
    "        print(\"Selling\")\n",
    "        newPos = np.zeros(nInst)\n",
    "    if newPos is not None:\n",
    "        print(f\"Transaction cost ${round(transactionCost(prcSoFar, currentPos, newPos), 2)}\")\n",
    "        currentPos = newPos\n",
    "    day += 1\n",
    "    return currentPos\n",
    "\n",
    "getPosition = getMyPosition"
   ]
  },
  {
   "cell_type": "code",
   "execution_count": 41,
   "id": "e781f1b1",
   "metadata": {},
   "outputs": [
    {
     "name": "stdout",
     "output_type": "stream",
     "text": [
      "Buying\n",
      "Transaction cost $3655.74\n",
      "=====\n",
      "mean(PL): -239\n",
      "return: -0.01568\n",
      "annSharpe(PL): -0.95 \n",
      "totDvolume: 3814710 \n"
     ]
    },
    {
     "data": {
      "image/png": "[encoded data removed]",
      "text/plain": [
       "<Figure size 720x576 with 1 Axes>"
      ]
     },
     "metadata": {
      "needs_background": "light"
     },
     "output_type": "display_data"
    }
   ],
   "source": [
    "# Output\n",
    "(meanpl, ret, sharpe, dvol) = calcPL(prcAll)\n",
    "print (\"=====\")\n",
    "print (\"mean(PL): %.0lf\" % meanpl)\n",
    "print (\"return: %.5lf\" % ret)\n",
    "print (\"annSharpe(PL): %.2lf \" % sharpe)\n",
    "print (\"totDvolume: %.0lf \" % dvol)"
   ]
  },
  {
   "cell_type": "code",
   "execution_count": null,
   "id": "2555a2b1",
   "metadata": {},
   "outputs": [],
   "source": []
  }
 ],
 "metadata": {
  "kernelspec": {
   "display_name": "Python 3",
   "language": "python",
   "name": "python3"
  },
  "language_info": {
   "codemirror_mode": {
    "name": "ipython",
    "version": 3
   },
   "file_extension": ".py",
   "mimetype": "text/x-python",
   "name": "python",
   "nbconvert_exporter": "python",
   "pygments_lexer": "ipython3",
   "version": "3.7.9"
  }
 },
 "nbformat": 4,
 "nbformat_minor": 5
}
