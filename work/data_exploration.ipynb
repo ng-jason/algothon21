{
 "cells": [
  {
   "cell_type": "markdown",
   "id": "61a925c7",
   "metadata": {},
   "source": [
    "## '*prices250.txt*' structure"
   ]
  },
  {
   "cell_type": "code",
   "execution_count": 1,
   "id": "d379b075",
   "metadata": {},
   "outputs": [
    {
     "data": {
      "text/plain": [
       "['README.md',\n",
       " 'teamName.py',\n",
       " '.ipynb_checkpoints',\n",
       " '.git',\n",
       " 'data.ipynb',\n",
       " 'eval.py',\n",
       " 'prices250.txt']"
      ]
     },
     "execution_count": 1,
     "metadata": {},
     "output_type": "execute_result"
    }
   ],
   "source": [
    "import os\n",
    "os.listdir('.')"
   ]
  },
  {
   "cell_type": "code",
   "execution_count": 2,
   "id": "ae72d60e",
   "metadata": {},
   "outputs": [],
   "source": [
    "import numpy as np\n",
    "data = np.loadtxt(\"prices250.txt\")"
   ]
  },
  {
   "cell_type": "code",
   "execution_count": 3,
   "id": "3b693ae3",
   "metadata": {},
   "outputs": [
    {
     "data": {
      "text/plain": [
       "array([18.25,  7.34, 17.95,  0.57,  2.41,  8.46, 17.57, 22.02, 16.62,\n",
       "        3.39, 34.05,  1.11,  7.45, 20.97, 29.95, 26.62, 30.52, 23.03,\n",
       "        5.02, 41.9 , 14.82,  1.84,  4.62, 10.71,  5.6 , 47.51, 13.67,\n",
       "       16.89, 12.21, 25.59, 26.68, 19.18, 14.77,  5.73, 30.72,  8.3 ,\n",
       "       17.58, 12.74, 23.42, 22.85,  7.84, 44.7 , 22.39, 79.97, 39.55,\n",
       "       57.86, 76.81, 30.88, 34.31, 47.13, 16.  , 10.24, 19.37, 13.18,\n",
       "       18.18,  9.47, 16.19, 16.89, 24.15,  0.5 , 16.58, 21.59, 11.29,\n",
       "       17.98, 19.34, 21.86, 15.36, 16.24,  9.92, 26.75, 17.  , 30.13,\n",
       "       27.99, 24.91,  9.37, 13.07, 19.69, 18.03, 21.96,  6.69, 19.61,\n",
       "       29.67, 18.62, 20.11,  3.98, 27.7 , 20.65, 20.34, 31.07, 11.6 ,\n",
       "        8.88, 20.75, 19.85, 20.22, 28.25, 16.67, 20.92,  3.33,  2.64,\n",
       "       19.19])"
      ]
     },
     "execution_count": 3,
     "metadata": {},
     "output_type": "execute_result"
    }
   ],
   "source": [
    "# prices on first day\n",
    "data[0]"
   ]
  },
  {
   "cell_type": "code",
   "execution_count": 4,
   "id": "197021e7",
   "metadata": {},
   "outputs": [
    {
     "data": {
      "text/plain": [
       "250"
      ]
     },
     "execution_count": 4,
     "metadata": {},
     "output_type": "execute_result"
    }
   ],
   "source": [
    "# 250 days\n",
    "len(data)"
   ]
  },
  {
   "cell_type": "code",
   "execution_count": 15,
   "id": "192d0657",
   "metadata": {},
   "outputs": [
    {
     "data": {
      "text/plain": [
       "array([18.36,  7.44, 18.43,  0.59,  2.42,  8.5 , 17.64, 21.6 , 16.59,\n",
       "        3.41, 33.66,  1.1 ,  7.46, 21.27, 30.57, 25.7 , 30.68, 22.87,\n",
       "        4.94, 40.45, 15.01,  1.85,  4.51, 10.27,  5.56, 48.27, 13.74,\n",
       "       16.92, 12.3 , 25.87, 26.82, 19.91, 14.36,  5.66, 30.96,  8.37,\n",
       "       17.53, 12.98, 23.59, 22.64,  7.84, 46.5 , 21.67, 78.55, 38.78,\n",
       "       58.4 , 73.69, 29.5 , 34.97, 47.91, 15.16, 10.73, 18.84, 13.72,\n",
       "       18.01,  9.82, 15.8 , 16.47, 23.14,  0.48, 17.33, 21.68, 11.95,\n",
       "       18.6 , 20.85, 22.2 , 14.49, 16.04,  9.73, 27.25, 16.93, 29.33,\n",
       "       30.24, 24.53,  9.72, 12.73, 20.7 , 17.9 , 22.44,  6.71, 19.25,\n",
       "       29.23, 20.95, 21.17,  3.97, 26.67, 20.68, 19.76, 31.5 , 11.33,\n",
       "        9.26, 20.26, 20.98, 21.84, 29.24, 15.45, 21.79,  3.18,  2.57,\n",
       "       20.68])"
      ]
     },
     "execution_count": 15,
     "metadata": {},
     "output_type": "execute_result"
    }
   ],
   "source": [
    "data[10] # day 10"
   ]
  },
  {
   "cell_type": "code",
   "execution_count": 16,
   "id": "d209364a",
   "metadata": {},
   "outputs": [
    {
     "data": {
      "text/plain": [
       "100"
      ]
     },
     "execution_count": 16,
     "metadata": {},
     "output_type": "execute_result"
    }
   ],
   "source": [
    "len(data[10]) # stocks in day 10"
   ]
  },
  {
   "cell_type": "code",
   "execution_count": 18,
   "id": "dc233075",
   "metadata": {},
   "outputs": [
    {
     "data": {
      "text/plain": [
       "18.36"
      ]
     },
     "execution_count": 18,
     "metadata": {},
     "output_type": "execute_result"
    }
   ],
   "source": [
    "data[10][0] # price of stock 0 on day 10"
   ]
  },
  {
   "cell_type": "code",
   "execution_count": 20,
   "id": "64717ec3",
   "metadata": {},
   "outputs": [
    {
     "data": {
      "image/png": "[encoded data removed]",
      "text/plain": [
       "<Figure size 432x288 with 1 Axes>"
      ]
     },
     "metadata": {
      "needs_background": "light"
     },
     "output_type": "display_data"
    }
   ],
   "source": [
    "# prices for a stock \n",
    "stock_num = 10 # for stock #11  (0-99)\n",
    "\n",
    "import matplotlib.pyplot as plt\n",
    "\n",
    "\n",
    "prices = []\n",
    "for i in data:\n",
    "    prices.append(i[stock_num])\n",
    "plt.plot(prices)\n",
    "plt.show()"
   ]
  }
 ],
 "metadata": {
  "kernelspec": {
   "display_name": "Python 3 (ipykernel)",
   "language": "python",
   "name": "python3"
  },
  "language_info": {
   "codemirror_mode": {
    "name": "ipython",
    "version": 3
   },
   "file_extension": ".py",
   "mimetype": "text/x-python",
   "name": "python",
   "nbconvert_exporter": "python",
   "pygments_lexer": "ipython3",
   "version": "3.9.5"
  }
 },
 "nbformat": 4,
 "nbformat_minor": 5
}
